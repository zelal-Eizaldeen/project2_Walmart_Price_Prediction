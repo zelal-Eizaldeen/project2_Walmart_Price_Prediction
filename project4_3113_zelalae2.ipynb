{
  "nbformat": 4,
  "nbformat_minor": 0,
  "metadata": {
    "colab": {
      "provenance": [],
      "authorship_tag": "ABX9TyNhsqPfVrqtdkxQYZUwe3L/",
      "include_colab_link": true
    },
    "kernelspec": {
      "name": "python3",
      "display_name": "Python 3"
    },
    "language_info": {
      "name": "python"
    }
  },
  "cells": [
    {
      "cell_type": "markdown",
      "metadata": {
        "id": "view-in-github",
        "colab_type": "text"
      },
      "source": [
        "<a href=\"https://colab.research.google.com/github/zelal-Eizaldeen/project2_Walmart_Price_Prediction/blob/main/project4_3113_zelalae2.ipynb\" target=\"_parent\"><img src=\"https://colab.research.google.com/assets/colab-badge.svg\" alt=\"Open In Colab\"/></a>"
      ]
    },
    {
      "cell_type": "markdown",
      "source": [
        "#Project4: **Building a Movie Recommender System**"
      ],
      "metadata": {
        "id": "uvFrdjafRZkY"
      }
    },
    {
      "cell_type": "markdown",
      "source": [
        "#**Team Members**\n",
        "Zilal Eiz Aldin (Online MCS) Zelalae2@illinois.edu\n",
        "\n",
        "Mesay Taye (Online MCS) mesayst2@illinois.edu\n",
        "\n",
        "Jianci Zhai (Online MCS) jianciz2@illinois.edu"
      ],
      "metadata": {
        "id": "_xH0tkHdRShF"
      }
    },
    {
      "cell_type": "markdown",
      "source": [
        "#**Contribution of each member**\n",
        "- **Jianci**: Built (System II: Recommendation Based on IBCF), Genberated Similarity Matrix, Tested the IBCF function.\n",
        "\n",
        "- **Messay**: Bublished the Frontend and the Backend using Docker.\n",
        "\n",
        "- **Zilal**: Built System 1 (Recommendation Based on Popularity), used Dash to display top 10 movies, Published the System 1 using Render and Reported the System 1 on the Python Notebook."
      ],
      "metadata": {
        "id": "FvKYgl2rRprJ"
      }
    },
    {
      "cell_type": "markdown",
      "source": [
        "#**Resources**\n",
        "- EDA https://liangfgithub.github.io/Python_W13_Movie_RS.html\n"
      ],
      "metadata": {
        "id": "pJCbpLo4VuAp"
      }
    },
    {
      "cell_type": "markdown",
      "source": [
        "#**Libraries**"
      ],
      "metadata": {
        "id": "YdXADdFmTwTj"
      }
    },
    {
      "cell_type": "code",
      "source": [
        "!pip install uvicorn\n",
        "!pip install fastapi"
      ],
      "metadata": {
        "colab": {
          "base_uri": "https://localhost:8080/"
        },
        "id": "vEnxYU73Tztg",
        "outputId": "bf4ac459-3911-487c-84ed-97b1b89a7f9f"
      },
      "execution_count": 4,
      "outputs": [
        {
          "output_type": "stream",
          "name": "stdout",
          "text": [
            "Requirement already satisfied: uvicorn in /usr/local/lib/python3.10/dist-packages (0.33.0)\n",
            "Requirement already satisfied: click>=7.0 in /usr/local/lib/python3.10/dist-packages (from uvicorn) (8.1.7)\n",
            "Requirement already satisfied: h11>=0.8 in /usr/local/lib/python3.10/dist-packages (from uvicorn) (0.14.0)\n",
            "Requirement already satisfied: typing-extensions>=4.0 in /usr/local/lib/python3.10/dist-packages (from uvicorn) (4.12.2)\n",
            "Collecting fastapi\n",
            "  Downloading fastapi-0.115.6-py3-none-any.whl.metadata (27 kB)\n",
            "Collecting starlette<0.42.0,>=0.40.0 (from fastapi)\n",
            "  Downloading starlette-0.41.3-py3-none-any.whl.metadata (6.0 kB)\n",
            "Requirement already satisfied: pydantic!=1.8,!=1.8.1,!=2.0.0,!=2.0.1,!=2.1.0,<3.0.0,>=1.7.4 in /usr/local/lib/python3.10/dist-packages (from fastapi) (2.10.3)\n",
            "Requirement already satisfied: typing-extensions>=4.8.0 in /usr/local/lib/python3.10/dist-packages (from fastapi) (4.12.2)\n",
            "Requirement already satisfied: annotated-types>=0.6.0 in /usr/local/lib/python3.10/dist-packages (from pydantic!=1.8,!=1.8.1,!=2.0.0,!=2.0.1,!=2.1.0,<3.0.0,>=1.7.4->fastapi) (0.7.0)\n",
            "Requirement already satisfied: pydantic-core==2.27.1 in /usr/local/lib/python3.10/dist-packages (from pydantic!=1.8,!=1.8.1,!=2.0.0,!=2.0.1,!=2.1.0,<3.0.0,>=1.7.4->fastapi) (2.27.1)\n",
            "Requirement already satisfied: anyio<5,>=3.4.0 in /usr/local/lib/python3.10/dist-packages (from starlette<0.42.0,>=0.40.0->fastapi) (3.7.1)\n",
            "Requirement already satisfied: idna>=2.8 in /usr/local/lib/python3.10/dist-packages (from anyio<5,>=3.4.0->starlette<0.42.0,>=0.40.0->fastapi) (3.10)\n",
            "Requirement already satisfied: sniffio>=1.1 in /usr/local/lib/python3.10/dist-packages (from anyio<5,>=3.4.0->starlette<0.42.0,>=0.40.0->fastapi) (1.3.1)\n",
            "Requirement already satisfied: exceptiongroup in /usr/local/lib/python3.10/dist-packages (from anyio<5,>=3.4.0->starlette<0.42.0,>=0.40.0->fastapi) (1.2.2)\n",
            "Downloading fastapi-0.115.6-py3-none-any.whl (94 kB)\n",
            "\u001b[2K   \u001b[90m━━━━━━━━━━━━━━━━━━━━━━━━━━━━━━━━━━━━━━━━\u001b[0m \u001b[32m94.8/94.8 kB\u001b[0m \u001b[31m8.3 MB/s\u001b[0m eta \u001b[36m0:00:00\u001b[0m\n",
            "\u001b[?25hDownloading starlette-0.41.3-py3-none-any.whl (73 kB)\n",
            "\u001b[2K   \u001b[90m━━━━━━━━━━━━━━━━━━━━━━━━━━━━━━━━━━━━━━━━\u001b[0m \u001b[32m73.2/73.2 kB\u001b[0m \u001b[31m6.3 MB/s\u001b[0m eta \u001b[36m0:00:00\u001b[0m\n",
            "\u001b[?25hInstalling collected packages: starlette, fastapi\n",
            "Successfully installed fastapi-0.115.6 starlette-0.41.3\n"
          ]
        }
      ]
    },
    {
      "cell_type": "code",
      "execution_count": 5,
      "metadata": {
        "id": "Oy3c04TkNDLG"
      },
      "outputs": [],
      "source": [
        "import uvicorn\n",
        "from fastapi import FastAPI, HTTPException\n",
        "from fastapi.middleware.cors import CORSMiddleware\n",
        "from fastapi.staticfiles import StaticFiles\n",
        "import pandas as pd\n",
        "import numpy as np\n",
        "import os\n",
        "import shutil\n",
        "import glob\n",
        "import gc\n"
      ]
    },
    {
      "cell_type": "code",
      "source": [
        "# Enable pandas memory optimizations\n",
        "pd.options.mode.chained_assignment = None  # default='warn'\n",
        "pd.options.compute.use_bottleneck = True\n",
        "pd.options.compute.use_numexpr = True"
      ],
      "metadata": {
        "id": "zpgD8_8vTtjc"
      },
      "execution_count": 6,
      "outputs": []
    },
    {
      "cell_type": "code",
      "source": [
        "# Define all directory paths\n",
        "BASE_DIR = os.path.dirname(__file__)\n",
        "DATA_DIR = os.path.join(BASE_DIR, \"data\")\n",
        "ASSETS_DIR = os.path.join(BASE_DIR, \"assets\")\n",
        "IMAGES_DIR = os.path.join(ASSETS_DIR, \"images\")"
      ],
      "metadata": {
        "colab": {
          "base_uri": "https://localhost:8080/",
          "height": 216
        },
        "id": "xnBsKiedUBrn",
        "outputId": "e521628e-55bf-407d-ea78-0d6ba64087dd"
      },
      "execution_count": 7,
      "outputs": [
        {
          "output_type": "error",
          "ename": "NameError",
          "evalue": "name '__file__' is not defined",
          "traceback": [
            "\u001b[0;31m---------------------------------------------------------------------------\u001b[0m",
            "\u001b[0;31mNameError\u001b[0m                                 Traceback (most recent call last)",
            "\u001b[0;32m<ipython-input-7-654a47ee118e>\u001b[0m in \u001b[0;36m<cell line: 2>\u001b[0;34m()\u001b[0m\n\u001b[1;32m      1\u001b[0m \u001b[0;31m# Define all directory paths\u001b[0m\u001b[0;34m\u001b[0m\u001b[0;34m\u001b[0m\u001b[0m\n\u001b[0;32m----> 2\u001b[0;31m \u001b[0mBASE_DIR\u001b[0m \u001b[0;34m=\u001b[0m \u001b[0mos\u001b[0m\u001b[0;34m.\u001b[0m\u001b[0mpath\u001b[0m\u001b[0;34m.\u001b[0m\u001b[0mdirname\u001b[0m\u001b[0;34m(\u001b[0m\u001b[0m__file__\u001b[0m\u001b[0;34m)\u001b[0m\u001b[0;34m\u001b[0m\u001b[0;34m\u001b[0m\u001b[0m\n\u001b[0m\u001b[1;32m      3\u001b[0m \u001b[0mDATA_DIR\u001b[0m \u001b[0;34m=\u001b[0m \u001b[0mos\u001b[0m\u001b[0;34m.\u001b[0m\u001b[0mpath\u001b[0m\u001b[0;34m.\u001b[0m\u001b[0mjoin\u001b[0m\u001b[0;34m(\u001b[0m\u001b[0mBASE_DIR\u001b[0m\u001b[0;34m,\u001b[0m \u001b[0;34m\"data\"\u001b[0m\u001b[0;34m)\u001b[0m\u001b[0;34m\u001b[0m\u001b[0;34m\u001b[0m\u001b[0m\n\u001b[1;32m      4\u001b[0m \u001b[0mASSETS_DIR\u001b[0m \u001b[0;34m=\u001b[0m \u001b[0mos\u001b[0m\u001b[0;34m.\u001b[0m\u001b[0mpath\u001b[0m\u001b[0;34m.\u001b[0m\u001b[0mjoin\u001b[0m\u001b[0;34m(\u001b[0m\u001b[0mBASE_DIR\u001b[0m\u001b[0;34m,\u001b[0m \u001b[0;34m\"assets\"\u001b[0m\u001b[0;34m)\u001b[0m\u001b[0;34m\u001b[0m\u001b[0;34m\u001b[0m\u001b[0m\n\u001b[1;32m      5\u001b[0m \u001b[0mIMAGES_DIR\u001b[0m \u001b[0;34m=\u001b[0m \u001b[0mos\u001b[0m\u001b[0;34m.\u001b[0m\u001b[0mpath\u001b[0m\u001b[0;34m.\u001b[0m\u001b[0mjoin\u001b[0m\u001b[0;34m(\u001b[0m\u001b[0mASSETS_DIR\u001b[0m\u001b[0;34m,\u001b[0m \u001b[0;34m\"images\"\u001b[0m\u001b[0;34m)\u001b[0m\u001b[0;34m\u001b[0m\u001b[0;34m\u001b[0m\u001b[0m\n",
            "\u001b[0;31mNameError\u001b[0m: name '__file__' is not defined"
          ]
        }
      ]
    },
    {
      "cell_type": "code",
      "source": [
        "# Create necessary directories\n",
        "os.makedirs(IMAGES_DIR, exist_ok=True)\n",
        "\n",
        "print(f\"BASE_DIR: {BASE_DIR}\")\n",
        "print(f\"ASSETS_DIR: {ASSETS_DIR}\")\n",
        "print(f\"IMAGES_DIR: {IMAGES_DIR}\")\n",
        "print(f\"Current working directory: {os.getcwd()}\")\n",
        "print(f\"Files in IMAGES_DIR: {glob.glob(os.path.join(IMAGES_DIR, '*.jpg'))}\")\n",
        "\n",
        "app = FastAPI()\n",
        "\n",
        "# Add CORS middleware\n",
        "app.add_middleware(\n",
        "    CORSMiddleware,\n",
        "    allow_origins=[\"*\"],\n",
        "    allow_credentials=False,\n",
        "    allow_methods=[\"GET\", \"POST\"],\n",
        "    allow_headers=[\"*\"],\n",
        ")\n",
        "\n",
        "# Load Data with memory optimizations\n",
        "dtypes = {\n",
        "    'UserID': 'int32',\n",
        "    'MovieID': 'int32',\n",
        "    'Rating': 'float32',\n",
        "    'Timestamp': 'int32'\n",
        "}"
      ],
      "metadata": {
        "id": "1OjMqaq2VFmQ"
      },
      "execution_count": null,
      "outputs": []
    },
    {
      "cell_type": "markdown",
      "source": [
        "#**Loading the data**"
      ],
      "metadata": {
        "id": "H_ZCRSCGVObS"
      }
    },
    {
      "cell_type": "code",
      "source": [
        "ratings = pd.read_csv(os.path.join(DATA_DIR, 'ratings.dat'),\n",
        "                     sep='::',\n",
        "                     engine='python',\n",
        "                     header=None,\n",
        "                     dtype=dtypes)\n",
        "ratings.columns = ['UserID', 'MovieID', 'Rating', 'Timestamp']\n",
        "\n",
        "movies = pd.read_csv(os.path.join(DATA_DIR, 'movies.dat'),\n",
        "                    sep='::',\n",
        "                    engine='python',\n",
        "                    encoding=\"ISO-8859-1\",\n",
        "                    header=None)\n",
        "movies.columns = ['MovieID', 'Title', 'Genres']\n"
      ],
      "metadata": {
        "id": "WlBdHBMDVNeH"
      },
      "execution_count": null,
      "outputs": []
    },
    {
      "cell_type": "code",
      "source": [
        "# Free up memory\n",
        "gc.collect()"
      ],
      "metadata": {
        "id": "moT7sGAGVU-_"
      },
      "execution_count": null,
      "outputs": []
    },
    {
      "cell_type": "markdown",
      "source": [
        "#**EDA**\n",
        "Explore the relationship between movie ratings and movie genres. First,\n",
        "simplify movie genres: multiple genres to ‘Multiple’."
      ],
      "metadata": {
        "id": "wjKcjx7gWYR3"
      }
    },
    {
      "cell_type": "code",
      "source": [
        "multiple_idx = pd.Series([(\"|\" in movie) for movie in movies['Genres']])\n",
        "movies.loc[multiple_idx, 'Genres'] = 'Multiple'"
      ],
      "metadata": {
        "id": "cVxiuLGfWb9i"
      },
      "execution_count": null,
      "outputs": []
    },
    {
      "cell_type": "code",
      "source": [
        "# Merge ratings and movie datasets.\n",
        "import matplotlib.pyplot as plt\n",
        "import matplotlib as mpl\n",
        "import seaborn as sns\n",
        "mpl.rcParams['figure.dpi'] = 300\n",
        "sns.set()\n",
        "\n",
        "rating_merged = ratings.merge(movies, left_on = 'MovieID', right_on = 'MovieID')\n",
        "mean_ratings = rating_merged[['Rating', 'Genres']].groupby('Genres').mean()\n",
        "\n",
        "plt.bar(mean_ratings.index, mean_ratings['Rating']);\n",
        "plt.xticks(rotation=90);\n",
        "plt.title('Average Rating for Each Genre');\n",
        "plt.xlabel('Genre');\n",
        "plt.ylabel('Rating');"
      ],
      "metadata": {
        "id": "-U0dhUxAWoVu"
      },
      "execution_count": null,
      "outputs": []
    },
    {
      "cell_type": "markdown",
      "source": [
        "#**Build System 1: Recommendation Based on Popularity**"
      ],
      "metadata": {
        "id": "JVKyw41-VZWH"
      }
    },
    {
      "cell_type": "markdown",
      "source": [
        "#Compute Popularity Scores\n",
        "To compute the popularity score for each movie, the following formula is used:\n",
        "\n",
        "**Popularity Score=(Number of Ratings)×(Normalized Average Rating)**  Where:\n",
        "\n",
        "- Normalized Average Rating: the average rating is normalized to a 0-1 scale (e.g., a rating scale from 1 to 5).\n",
        "- Number of Ratings: This is the count of how many ratings a movie has received."
      ],
      "metadata": {
        "id": "GrTYDSgoWVJF"
      }
    },
    {
      "cell_type": "code",
      "source": [
        "# Compute popularity scores with memory optimizations\n",
        "rating_merged = ratings.merge(movies[['MovieID', 'Title']], on='MovieID')\n",
        "movie_stats = rating_merged.groupby('MovieID').agg(\n",
        "    num_ratings=('Rating', 'count'),\n",
        "    avg_rating=('Rating', 'mean')\n",
        ").reset_index()"
      ],
      "metadata": {
        "id": "OY_XXBHGXusa"
      },
      "execution_count": null,
      "outputs": []
    },
    {
      "cell_type": "code",
      "source": [
        "movie_stats['normalized_rating'] = (movie_stats['avg_rating'] - 1) / 4\n",
        "movie_stats['popularity_score'] = movie_stats['num_ratings'] * movie_stats['normalized_rating']\n"
      ],
      "metadata": {
        "id": "DLNxUU-9Xyih"
      },
      "execution_count": null,
      "outputs": []
    },
    {
      "cell_type": "code",
      "source": [
        "# Clean up memory\n",
        "del rating_merged\n",
        "gc.collect()"
      ],
      "metadata": {
        "id": "zXvwE4pkX4_b"
      },
      "execution_count": null,
      "outputs": []
    },
    {
      "cell_type": "code",
      "source": [
        "def get_poster_url(movie_id):\n",
        "    image_filename = f\"{movie_id}.jpg\"\n",
        "    image_path = os.path.join(IMAGES_DIR, image_filename)\n",
        "\n",
        "    if os.path.exists(image_path):\n",
        "        return f\"/assets/images/{image_filename}\"\n",
        "    return None\n",
        "\n",
        "# Add PosterURL to movies efficiently\n",
        "movies['PosterURL'] = movies['MovieID'].apply(get_poster_url)\n",
        "\n",
        "# Create final movie_popularity dataframe with memory optimization\n",
        "movie_popularity = movie_stats.merge(\n",
        "    movies[['MovieID', 'Title', 'PosterURL']],\n",
        "    on='MovieID',\n",
        "    copy=False\n",
        ")\n",
        "movie_popularity.index = ['m' + str(item) for item in movie_popularity['MovieID'].tolist()]\n"
      ],
      "metadata": {
        "id": "zVCoSj-TYA3W"
      },
      "execution_count": null,
      "outputs": []
    },
    {
      "cell_type": "code",
      "source": [
        "# Clean up memory\n",
        "del movie_stats\n",
        "gc.collect()"
      ],
      "metadata": {
        "id": "Mcu-QgTPYD11"
      },
      "execution_count": null,
      "outputs": []
    },
    {
      "cell_type": "markdown",
      "source": [
        "#**System II: Recomendation Based on IBCF**"
      ],
      "metadata": {
        "id": "7vCSdhukYMjJ"
      }
    },
    {
      "cell_type": "code",
      "source": [
        "# Create rating matrix\n",
        "rating_matrix = ratings.pivot(index='UserID', columns='MovieID', values='Rating')\n",
        "rating_matrix.index = ['u' + str(item) for item in rating_matrix.index.tolist()]\n",
        "\n",
        "# Normalize rating matrix\n",
        "rating_matrix_norm = rating_matrix.sub(rating_matrix.mean(axis=1, skipna=True), axis=0)\n",
        "\n",
        "# Load or compute similarity matrix (S)\n",
        "# For large datasets, it's recommended to precompute s_matrix.csv offline\n",
        "S_FILE = os.path.join(DATA_DIR, 's_matrix.csv')\n",
        "if os.path.exists(S_FILE):\n",
        "    s_matrix_new = pd.read_csv(S_FILE, index_col=0)\n",
        "    itemID_lst = rating_matrix.columns\n",
        "    s_matrix_new.columns =  ['m' + str(item) for item in itemID_lst.tolist()]\n",
        "    s_matrix_new.index = ['m' + str(item) for item in itemID_lst.tolist()]\n",
        "else:\n",
        "    # Computing S on the fly is time-consuming.\n",
        "    # Ideally, do this offline and load from CSV.\n",
        "    raise FileNotFoundError(\"s_matrix.csv not found. Precompute it before running the server.\")\n",
        "\n",
        "# Keep only top 30 values per row\n",
        "def keep_top_n(df, n):\n",
        "    row_thresholds = np.sort(df.values, axis=1)[:, -n]\n",
        "    return df.where(df.ge(row_thresholds, axis=0))\n",
        "\n",
        "s_matrix_top30 = keep_top_n(s_matrix_new.fillna(0), 30)\n",
        "\n",
        "def myIBCF(newuser, s_matrix_top30):\n",
        "    # newuser: array-like, same order as s_matrix_top30 columns\n",
        "    sigma_s = (s_matrix_top30 * np.where(np.isnan(newuser), 0, 1)).sum(axis=1)\n",
        "    sigma_sw = (s_matrix_top30.mul(newuser, axis=1)).sum(axis=1)\n",
        "    pred = sigma_sw / sigma_s\n",
        "    # remove items already rated by the user\n",
        "    pred[~np.isnan(newuser)] = np.nan\n",
        "    pred = pred[~np.isnan(pred)]\n",
        "    pred_top10 = pd.DataFrame(pred.sort_values(ascending=False).head(10))\n",
        "    pred_top10.columns = ['predicted_rating']\n",
        "    if len(pred_top10) < 10:\n",
        "        # fallback to popularity-based\n",
        "        non_nan_indices = pred[~np.isnan(newuser)].index.tolist() if not np.isnan(newuser).all() else []\n",
        "        new_movie_popularity = movie_popularity[~movie_popularity.index.isin(non_nan_indices)]\n",
        "        needed = 10 - len(pred_top10)\n",
        "        fallback = new_movie_popularity.sort_values(by='popularity_score', ascending=False).head(needed)\n",
        "        fallback_df = pd.DataFrame(index=fallback.index, columns=['predicted_rating'], data=np.nan)\n",
        "        pred_top10 = pd.concat([pred_top10, fallback_df], axis=0)\n",
        "    return pred_top10\n",
        "\n",
        "@app.post(\"/api/recommend\")\n",
        "def recommend(user_ratings: dict):\n",
        "    \"\"\"\n",
        "    user_ratings:\n",
        "    {\n",
        "      \"ratings\": {\n",
        "          \"m1613\": 5,\n",
        "          \"m1755\": 4\n",
        "      }\n",
        "    }\n",
        "\n",
        "    Returns top 10 recommended movies.\n",
        "    \"\"\"\n",
        "    itemID_lst = ['m' + str(item) for item in rating_matrix.columns.tolist()]\n",
        "    newuser = pd.DataFrame([[np.nan]*len(itemID_lst)], columns=itemID_lst)\n",
        "    # Fill in user ratings\n",
        "    if \"ratings\" not in user_ratings:\n",
        "        raise HTTPException(status_code=400, detail=\"Please provide 'ratings' dictionary in the request body.\")\n",
        "    for k,v in user_ratings[\"ratings\"].items():\n",
        "        if k in newuser.columns:\n",
        "            newuser.loc[0, k] = v\n",
        "\n",
        "    newuser_array = newuser.loc[0].to_numpy()\n",
        "    pred_top10 = myIBCF(newuser_array, s_matrix_top30)\n",
        "    pred_top10 = pred_top10.join(movie_popularity[['Title','PosterURL']], how='left')\n",
        "    # Return results\n",
        "    return pred_top10.reset_index().rename(columns={\"index\":\"MovieID\"}).to_dict(orient='records')\n",
        "\n",
        "@app.get(\"/api/top10\")\n",
        "async def get_top10_movies():\n",
        "    result = movie_popularity.nlargest(10, 'popularity_score')[['MovieID', 'Title', 'PosterURL', 'popularity_score']].copy()\n",
        "    response_data = result.to_dict(orient='records')\n",
        "    return response_data\n",
        "\n",
        "@app.get(\"/api/movies\")\n",
        "async def get_movies(page: int = 1, per_page: int = 24):\n",
        "    start_idx = (page - 1) * per_page\n",
        "    end_idx = start_idx + per_page\n",
        "\n",
        "    # Get all movies sorted by popularity\n",
        "    all_movies = movie_popularity.sort_values(by='popularity_score', ascending=False)\n",
        "    paginated_movies = all_movies.iloc[start_idx:end_idx]\n",
        "\n",
        "    # Get total pages\n",
        "    total_movies = len(all_movies)\n",
        "    total_pages = (total_movies + per_page - 1) // per_page\n",
        "\n",
        "    result = paginated_movies[['MovieID', 'Title', 'PosterURL', 'popularity_score']].copy()\n",
        "    response = {\n",
        "        \"movies\": result.to_dict(orient='records'),\n",
        "        \"page\": page,\n",
        "        \"total_pages\": total_pages,\n",
        "        \"total_movies\": total_movies\n",
        "    }\n",
        "    return response\n",
        "\n",
        "# Mount the assets directory for serving static files\n",
        "app.mount(\"/assets\", StaticFiles(directory=ASSETS_DIR), name=\"assets\")\n",
        "\n",
        "# Mount the frontend build - use relative path that works in both Docker and local dev\n",
        "FRONTEND_DIR = os.path.join(os.path.dirname(BASE_DIR), \"ui/resources/public\")\n",
        "app.mount(\"/\", StaticFiles(directory=FRONTEND_DIR, html=True), name=\"frontend\")\n",
        "\n",
        "if __name__ == '__main__':\n",
        "    uvicorn.run(app, host=\"0.0.0.0\", port=8008)"
      ],
      "metadata": {
        "id": "Ijkv_qTLYtKa"
      },
      "execution_count": null,
      "outputs": []
    }
  ]
}