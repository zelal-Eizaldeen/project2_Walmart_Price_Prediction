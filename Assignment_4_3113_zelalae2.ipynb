{
  "nbformat": 4,
  "nbformat_minor": 0,
  "metadata": {
    "colab": {
      "provenance": [],
      "include_colab_link": true
    },
    "kernelspec": {
      "name": "python3",
      "display_name": "Python 3"
    },
    "language_info": {
      "name": "python"
    }
  },
  "cells": [
    {
      "cell_type": "markdown",
      "metadata": {
        "id": "view-in-github",
        "colab_type": "text"
      },
      "source": [
        "<a href=\"https://colab.research.google.com/github/zelal-Eizaldeen/project2_Walmart_Price_Prediction/blob/main/Assignment_4_3113_zelalae2.ipynb\" target=\"_parent\"><img src=\"https://colab.research.google.com/assets/colab-badge.svg\" alt=\"Open In Colab\"/></a>"
      ]
    },
    {
      "cell_type": "markdown",
      "source": [
        "# **Team Members**\n",
        "\n",
        "Zilal Eiz Aldin (Online MCS) Zelalae2@illinois.edu\n",
        "\n",
        "Mesay Taye (Online MCS) mesayst2@illinois.edu\n",
        "\n",
        "Jianci Zhai (Online MCS) jianciz2@illinois.edu"
      ],
      "metadata": {
        "id": "zs6Li3LrGRRx"
      }
    },
    {
      "cell_type": "markdown",
      "source": [
        "# **Contribution of each member**\n",
        "\n",
        "XXX By Mesay\n",
        "\n",
        "XXX By Zilal\n",
        "\n",
        "XXX By Jianci"
      ],
      "metadata": {
        "id": "TiFaMP4iGV8v"
      }
    },
    {
      "cell_type": "markdown",
      "source": [
        "# **Reference**\n",
        "\n",
        "release: https://liangfgithub.github.io/Coding/F24_Coding4.pdf\n",
        "\n",
        "https://campuswire.com/c/GB46E5679/feed/587\n",
        "\n",
        "https://liangfgithub.github.io/Coding/F24_Coding4.pdf\n",
        "\n",
        "question: https://campuswire.com/c/GB46E5679/feed/729"
      ],
      "metadata": {
        "id": "a1xnjLg3GnNE"
      }
    },
    {
      "cell_type": "markdown",
      "source": [
        "# **Setting**"
      ],
      "metadata": {
        "id": "l0drXPIG1Tai"
      }
    },
    {
      "cell_type": "code",
      "source": [
        "\n",
        "from google.colab import drive\n",
        "drive.mount('/content/drive')"
      ],
      "metadata": {
        "colab": {
          "base_uri": "https://localhost:8080/"
        },
        "id": "Pnxyd9Pz1V77",
        "outputId": "04ffc421-cd1c-48a4-b4ff-65735947996f"
      },
      "execution_count": 1,
      "outputs": [
        {
          "output_type": "stream",
          "name": "stdout",
          "text": [
            "Drive already mounted at /content/drive; to attempt to forcibly remount, call drive.mount(\"/content/drive\", force_remount=True).\n"
          ]
        }
      ]
    },
    {
      "cell_type": "code",
      "source": [
        "\n",
        "# import all libraries\n",
        "import time\n",
        "\n",
        "import numpy as np\n",
        "import pandas as pd\n",
        "import matplotlib.pyplot as plt\n",
        "import seaborn as sns\n",
        "import re\n",
        "\n",
        "import sklearn\n",
        "from sklearn.model_selection import train_test_split\n",
        "from sklearn.preprocessing import MinMaxScaler, StandardScaler\n",
        "from sklearn.preprocessing import PolynomialFeatures\n",
        "from sklearn.preprocessing import scale\n",
        "from sklearn.feature_selection import RFE\n",
        "from sklearn.linear_model import LinearRegression, Lasso, Ridge, ElasticNet\n",
        "\n",
        "from sklearn.model_selection import cross_val_score\n",
        "from sklearn.model_selection import KFold\n",
        "from sklearn.model_selection import GridSearchCV\n",
        "from sklearn.pipeline import make_pipeline\n",
        "from sklearn.linear_model import ElasticNetCV\n",
        "from sklearn.metrics import mean_squared_error,make_scorer\n",
        "from sklearn.ensemble import RandomForestRegressor\n",
        "from sklearn.ensemble import RandomForestClassifier\n",
        "from sklearn.tree import DecisionTreeClassifier\n",
        "from sklearn.ensemble import GradientBoostingRegressor\n",
        "import xgboost as xgb\n",
        "\n",
        "import warnings\n",
        "warnings.filterwarnings('ignore')\n",
        "\n",
        "from scipy.stats import multivariate_normal\n",
        "\n",
        "from matplotlib.colors import LogNorm\n",
        "\n",
        "from sklearn.model_selection import GridSearchCV\n",
        "from sklearn.mixture import GaussianMixture"
      ],
      "metadata": {
        "id": "Qf8ijPxU1XOa"
      },
      "execution_count": 2,
      "outputs": []
    },
    {
      "cell_type": "markdown",
      "source": [
        "# **Part I: Gaussian Mixtures**"
      ],
      "metadata": {
        "id": "MfwWTYo8HMcB"
      }
    },
    {
      "cell_type": "markdown",
      "source": [
        "reference:\n",
        "\n",
        "https://liangfgithub.github.io/PSL/w7/w7_3_EM.html\n",
        "\n",
        "https://campuswire.com/c/GB46E5679/feed/589 (hint)\n"
      ],
      "metadata": {
        "id": "tgqjBrw1NCRQ"
      }
    },
    {
      "cell_type": "code",
      "source": [
        "data = pd.read_table('https://liangfgithub.github.io/Data/faithful.dat', sep=\"\\s+\", index_col=0)"
      ],
      "metadata": {
        "id": "dK4u4WARoRT7"
      },
      "execution_count": 3,
      "outputs": []
    },
    {
      "cell_type": "code",
      "source": [
        "#create a pic for dataset\n",
        "plt.scatter(data['eruptions'], data['waiting'], 16)\n",
        "plt.xlabel('Eruptions')\n",
        "plt.ylabel('Waiting')"
      ],
      "metadata": {
        "colab": {
          "base_uri": "https://localhost:8080/",
          "height": 467
        },
        "id": "EUhIyjzwapzJ",
        "outputId": "e3cc357b-401b-4774-afa3-0a35d61ca578"
      },
      "execution_count": 4,
      "outputs": [
        {
          "output_type": "execute_result",
          "data": {
            "text/plain": [
              "Text(0, 0.5, 'Waiting')"
            ]
          },
          "metadata": {},
          "execution_count": 4
        },
        {
          "output_type": "display_data",
          "data": {
            "text/plain": [
              "<Figure size 640x480 with 1 Axes>"
            ],
            "image/png": "[encoded data removed]"
          },
          "metadata": {}
        }
      ]
    },
    {
      "cell_type": "code",
      "source": [
        "data.head()"
      ],
      "metadata": {
        "colab": {
          "base_uri": "https://localhost:8080/",
          "height": 206
        },
        "id": "5v7EL-lk2-3z",
        "outputId": "37f44c1f-84f9-401b-851d-b827d787589f"
      },
      "execution_count": 5,
      "outputs": [
        {
          "output_type": "execute_result",
          "data": {
            "text/plain": [
              "   eruptions  waiting\n",
              "1      3.600       79\n",
              "2      1.800       54\n",
              "3      3.333       74\n",
              "4      2.283       62\n",
              "5      4.533       85"
            ],
            "text/html": [
              "\n",
              "  <div id=\"df-cf797b55-4d54-41b9-bad1-4a1109f8aac6\" class=\"colab-df-container\">\n",
              "    <div>\n",
              "<style scoped>\n",
              "    .dataframe tbody tr th:only-of-type {\n",
              "        vertical-align: middle;\n",
              "    }\n",
              "\n",
              "    .dataframe tbody tr th {\n",
              "        vertical-align: top;\n",
              "    }\n",
              "\n",
              "    .dataframe thead th {\n",
              "        text-align: right;\n",
              "    }\n",
              "</style>\n",
              "<table border=\"1\" class=\"dataframe\">\n",
              "  <thead>\n",
              "    <tr style=\"text-align: right;\">\n",
              "      <th></th>\n",
              "      <th>eruptions</th>\n",
              "      <th>waiting</th>\n",
              "    </tr>\n",
              "  </thead>\n",
              "  <tbody>\n",
              "    <tr>\n",
              "      <th>1</th>\n",
              "      <td>3.600</td>\n",
              "      <td>79</td>\n",
              "    </tr>\n",
              "    <tr>\n",
              "      <th>2</th>\n",
              "      <td>1.800</td>\n",
              "      <td>54</td>\n",
              "    </tr>\n",
              "    <tr>\n",
              "      <th>3</th>\n",
              "      <td>3.333</td>\n",
              "      <td>74</td>\n",
              "    </tr>\n",
              "    <tr>\n",
              "      <th>4</th>\n",
              "      <td>2.283</td>\n",
              "      <td>62</td>\n",
              "    </tr>\n",
              "    <tr>\n",
              "      <th>5</th>\n",
              "      <td>4.533</td>\n",
              "      <td>85</td>\n",
              "    </tr>\n",
              "  </tbody>\n",
              "</table>\n",
              "</div>\n",
              "    <div class=\"colab-df-buttons\">\n",
              "\n",
              "  <div class=\"colab-df-container\">\n",
              "    <button class=\"colab-df-convert\" onclick=\"convertToInteractive('df-cf797b55-4d54-41b9-bad1-4a1109f8aac6')\"\n",
              "            title=\"Convert this dataframe to an interactive table.\"\n",
              "            style=\"display:none;\">\n",
              "\n",
              "  <svg xmlns=\"http://www.w3.org/2000/svg\" height=\"24px\" viewBox=\"0 -960 960 960\">\n",
              "    <path d=\"M120-120v-720h720v720H120Zm60-500h600v-160H180v160Zm220 220h160v-160H400v160Zm0 220h160v-160H400v160ZM180-400h160v-160H180v160Zm440 0h160v-160H620v160ZM180-180h160v-160H180v160Zm440 0h160v-160H620v160Z\"/>\n",
              "  </svg>\n",
              "    </button>\n",
              "\n",
              "  <style>\n",
              "    .colab-df-container {\n",
              "      display:flex;\n",
              "      gap: 12px;\n",
              "    }\n",
              "\n",
              "    .colab-df-convert {\n",
              "      background-color: #E8F0FE;\n",
              "      border: none;\n",
              "      border-radius: 50%;\n",
              "      cursor: pointer;\n",
              "      display: none;\n",
              "      fill: #1967D2;\n",
              "      height: 32px;\n",
              "      padding: 0 0 0 0;\n",
              "      width: 32px;\n",
              "    }\n",
              "\n",
              "    .colab-df-convert:hover {\n",
              "      background-color: #E2EBFA;\n",
              "      box-shadow: 0px 1px 2px rgba(60, 64, 67, 0.3), 0px 1px 3px 1px rgba(60, 64, 67, 0.15);\n",
              "      fill: #174EA6;\n",
              "    }\n",
              "\n",
              "    .colab-df-buttons div {\n",
              "      margin-bottom: 4px;\n",
              "    }\n",
              "\n",
              "    [theme=dark] .colab-df-convert {\n",
              "      background-color: #3B4455;\n",
              "      fill: #D2E3FC;\n",
              "    }\n",
              "\n",
              "    [theme=dark] .colab-df-convert:hover {\n",
              "      background-color: #434B5C;\n",
              "      box-shadow: 0px 1px 3px 1px rgba(0, 0, 0, 0.15);\n",
              "      filter: drop-shadow(0px 1px 2px rgba(0, 0, 0, 0.3));\n",
              "      fill: #FFFFFF;\n",
              "    }\n",
              "  </style>\n",
              "\n",
              "    <script>\n",
              "      const buttonEl =\n",
              "        document.querySelector('#df-cf797b55-4d54-41b9-bad1-4a1109f8aac6 button.colab-df-convert');\n",
              "      buttonEl.style.display =\n",
              "        google.colab.kernel.accessAllowed ? 'block' : 'none';\n",
              "\n",
              "      async function convertToInteractive(key) {\n",
              "        const element = document.querySelector('#df-cf797b55-4d54-41b9-bad1-4a1109f8aac6');\n",
              "        const dataTable =\n",
              "          await google.colab.kernel.invokeFunction('convertToInteractive',\n",
              "                                                    [key], {});\n",
              "        if (!dataTable) return;\n",
              "\n",
              "        const docLinkHtml = 'Like what you see? Visit the ' +\n",
              "          '<a target=\"_blank\" href=https://colab.research.google.com/notebooks/data_table.ipynb>data table notebook</a>'\n",
              "          + ' to learn more about interactive tables.';\n",
              "        element.innerHTML = '';\n",
              "        dataTable['output_type'] = 'display_data';\n",
              "        await google.colab.output.renderOutput(dataTable, element);\n",
              "        const docLink = document.createElement('div');\n",
              "        docLink.innerHTML = docLinkHtml;\n",
              "        element.appendChild(docLink);\n",
              "      }\n",
              "    </script>\n",
              "  </div>\n",
              "\n",
              "\n",
              "<div id=\"df-e77b08f5-1897-45c8-b25e-37a453543b83\">\n",
              "  <button class=\"colab-df-quickchart\" onclick=\"quickchart('df-e77b08f5-1897-45c8-b25e-37a453543b83')\"\n",
              "            title=\"Suggest charts\"\n",
              "            style=\"display:none;\">\n",
              "\n",
              "<svg xmlns=\"http://www.w3.org/2000/svg\" height=\"24px\"viewBox=\"0 0 24 24\"\n",
              "     width=\"24px\">\n",
              "    <g>\n",
              "        <path d=\"M19 3H5c-1.1 0-2 .9-2 2v14c0 1.1.9 2 2 2h14c1.1 0 2-.9 2-2V5c0-1.1-.9-2-2-2zM9 17H7v-7h2v7zm4 0h-2V7h2v10zm4 0h-2v-4h2v4z\"/>\n",
              "    </g>\n",
              "</svg>\n",
              "  </button>\n",
              "\n",
              "<style>\n",
              "  .colab-df-quickchart {\n",
              "      --bg-color: #E8F0FE;\n",
              "      --fill-color: #1967D2;\n",
              "      --hover-bg-color: #E2EBFA;\n",
              "      --hover-fill-color: #174EA6;\n",
              "      --disabled-fill-color: #AAA;\n",
              "      --disabled-bg-color: #DDD;\n",
              "  }\n",
              "\n",
              "  [theme=dark] .colab-df-quickchart {\n",
              "      --bg-color: #3B4455;\n",
              "      --fill-color: #D2E3FC;\n",
              "      --hover-bg-color: #434B5C;\n",
              "      --hover-fill-color: #FFFFFF;\n",
              "      --disabled-bg-color: #3B4455;\n",
              "      --disabled-fill-color: #666;\n",
              "  }\n",
              "\n",
              "  .colab-df-quickchart {\n",
              "    background-color: var(--bg-color);\n",
              "    border: none;\n",
              "    border-radius: 50%;\n",
              "    cursor: pointer;\n",
              "    display: none;\n",
              "    fill: var(--fill-color);\n",
              "    height: 32px;\n",
              "    padding: 0;\n",
              "    width: 32px;\n",
              "  }\n",
              "\n",
              "  .colab-df-quickchart:hover {\n",
              "    background-color: var(--hover-bg-color);\n",
              "    box-shadow: 0 1px 2px rgba(60, 64, 67, 0.3), 0 1px 3px 1px rgba(60, 64, 67, 0.15);\n",
              "    fill: var(--button-hover-fill-color);\n",
              "  }\n",
              "\n",
              "  .colab-df-quickchart-complete:disabled,\n",
              "  .colab-df-quickchart-complete:disabled:hover {\n",
              "    background-color: var(--disabled-bg-color);\n",
              "    fill: var(--disabled-fill-color);\n",
              "    box-shadow: none;\n",
              "  }\n",
              "\n",
              "  .colab-df-spinner {\n",
              "    border: 2px solid var(--fill-color);\n",
              "    border-color: transparent;\n",
              "    border-bottom-color: var(--fill-color);\n",
              "    animation:\n",
              "      spin 1s steps(1) infinite;\n",
              "  }\n",
              "\n",
              "  @keyframes spin {\n",
              "    0% {\n",
              "      border-color: transparent;\n",
              "      border-bottom-color: var(--fill-color);\n",
              "      border-left-color: var(--fill-color);\n",
              "    }\n",
              "    20% {\n",
              "      border-color: transparent;\n",
              "      border-left-color: var(--fill-color);\n",
              "      border-top-color: var(--fill-color);\n",
              "    }\n",
              "    30% {\n",
              "      border-color: transparent;\n",
              "      border-left-color: var(--fill-color);\n",
              "      border-top-color: var(--fill-color);\n",
              "      border-right-color: var(--fill-color);\n",
              "    }\n",
              "    40% {\n",
              "      border-color: transparent;\n",
              "      border-right-color: var(--fill-color);\n",
              "      border-top-color: var(--fill-color);\n",
              "    }\n",
              "    60% {\n",
              "      border-color: transparent;\n",
              "      border-right-color: var(--fill-color);\n",
              "    }\n",
              "    80% {\n",
              "      border-color: transparent;\n",
              "      border-right-color: var(--fill-color);\n",
              "      border-bottom-color: var(--fill-color);\n",
              "    }\n",
              "    90% {\n",
              "      border-color: transparent;\n",
              "      border-bottom-color: var(--fill-color);\n",
              "    }\n",
              "  }\n",
              "</style>\n",
              "\n",
              "  <script>\n",
              "    async function quickchart(key) {\n",
              "      const quickchartButtonEl =\n",
              "        document.querySelector('#' + key + ' button');\n",
              "      quickchartButtonEl.disabled = true;  // To prevent multiple clicks.\n",
              "      quickchartButtonEl.classList.add('colab-df-spinner');\n",
              "      try {\n",
              "        const charts = await google.colab.kernel.invokeFunction(\n",
              "            'suggestCharts', [key], {});\n",
              "      } catch (error) {\n",
              "        console.error('Error during call to suggestCharts:', error);\n",
              "      }\n",
              "      quickchartButtonEl.classList.remove('colab-df-spinner');\n",
              "      quickchartButtonEl.classList.add('colab-df-quickchart-complete');\n",
              "    }\n",
              "    (() => {\n",
              "      let quickchartButtonEl =\n",
              "        document.querySelector('#df-e77b08f5-1897-45c8-b25e-37a453543b83 button');\n",
              "      quickchartButtonEl.style.display =\n",
              "        google.colab.kernel.accessAllowed ? 'block' : 'none';\n",
              "    })();\n",
              "  </script>\n",
              "</div>\n",
              "\n",
              "    </div>\n",
              "  </div>\n"
            ],
            "application/vnd.google.colaboratory.intrinsic+json": {
              "type": "dataframe",
              "variable_name": "data",
              "summary": "{\n  \"name\": \"data\",\n  \"rows\": 272,\n  \"fields\": [\n    {\n      \"column\": \"eruptions\",\n      \"properties\": {\n        \"dtype\": \"number\",\n        \"std\": 1.1413712511052077,\n        \"min\": 1.6,\n        \"max\": 5.1,\n        \"num_unique_values\": 126,\n        \"samples\": [\n          4.733,\n          1.967,\n          1.85\n        ],\n        \"semantic_type\": \"\",\n        \"description\": \"\"\n      }\n    },\n    {\n      \"column\": \"waiting\",\n      \"properties\": {\n        \"dtype\": \"number\",\n        \"std\": 13,\n        \"min\": 43,\n        \"max\": 96,\n        \"num_unique_values\": 51,\n        \"samples\": [\n          96,\n          87,\n          68\n        ],\n        \"semantic_type\": \"\",\n        \"description\": \"\"\n      }\n    }\n  ]\n}"
            }
          },
          "metadata": {},
          "execution_count": 5
        }
      ]
    },
    {
      "cell_type": "markdown",
      "source": [
        "# **Part1**"
      ],
      "metadata": {
        "id": "Yu7CzzculULn"
      }
    },
    {
      "cell_type": "code",
      "source": [
        "def myEM(data,G,itmax):\n",
        "  #initilize dataset\n",
        "  #sample size\n",
        "  n=len(data)\n",
        "  G=G\n",
        "  xi_mtrx = np.reshape(np.array(data),(n,2))\n",
        "\n",
        "  i_loop = 1\n",
        "  print(f'-----------------------------------\\n Iteration = {i_loop} \\n')\n",
        "\n",
        "  #initialize w_i_k (weight of probability of xi for group k)\n",
        "  w_i_k = np.zeros((272, G))\n",
        "  w_i_k[:10,0] = 1.0\n",
        "\n",
        "  if G==2:\n",
        "    w_i_k[10:,1] = 1.0\n",
        "  else:\n",
        "    w_i_k[10:30,1] = 1.0\n",
        "    w_i_k[30:,2] = 1.0\n",
        "\n",
        "  #initialize p_mtrx\n",
        "  p_mtrx = w_i_k.sum(axis = 0)/n\n",
        "  print(f'prob = {p_mtrx} \\n')\n",
        "\n",
        "\n",
        "  #initialize u for each group: https://campuswire.com/c/GB46E5679/feed/589\n",
        "  #get the responsiblity for erp and wait for each xi based on the weight for each G\n",
        "  erp_r = np.reshape(data['eruptions'],(n,1)) * w_i_k\n",
        "  wait_r = np.reshape(data['waiting'],(n,1)) * w_i_k\n",
        "\n",
        "\n",
        "  # checked\n",
        "  erp_r_mean = erp_r.sum(axis=0)/ w_i_k.sum(axis=0)\n",
        "  wait_r_mean = wait_r.sum(axis=0)/ w_i_k.sum(axis=0)\n",
        "  r_mean = np.vstack((erp_r_mean, wait_r_mean))\n",
        "  print(f'mean for each G is \\n {r_mean}')\n",
        "\n",
        "  #u_by_k is the the center each group G\n",
        "  #dif_u_by_k is the difference from xi to the center each group G\n",
        "\n",
        "  for p in range(0,G):\n",
        "    dif_u_by_k_tmp = xi_mtrx - r_mean.T[p]\n",
        "\n",
        "    if p == 0:\n",
        "      dif_u_by_k = dif_u_by_k_tmp\n",
        "    else:\n",
        "      dif_u_by_k = np.concatenate((dif_u_by_k,dif_u_by_k_tmp),axis=1)\n",
        "\n",
        "  sigma = sigma_cal(G,dif_u_by_k,w_i_k)\n",
        "  w_i_k = Estep(G,sigma,dif_u_by_k,p_mtrx)\n",
        "\n",
        "\n",
        "\n",
        "  while itmax+1 > i_loop:\n",
        "\n",
        "    p_mtrx, dif_u_by_k, sigma = Mstep(G,w_i_k,data)\n",
        "    w_i_k = Estep(G,sigma,dif_u_by_k,p_mtrx)\n",
        "\n",
        "    i_loop = i_loop + 1\n",
        "    print(f'-----------------------------------\\n Iteration = {i_loop} \\n')\n"
      ],
      "metadata": {
        "id": "whKMWyahP7-M"
      },
      "execution_count": 38,
      "outputs": []
    },
    {
      "cell_type": "code",
      "source": [
        "'''calculate sigma and relevant metric\n",
        "  the form provide by the instruction is BAD - consider sigma with with weight as well\n",
        "  already know w_i_k (weight/responsibility)'''\n",
        "def sigma_cal(G,dif_u_by_k,w_i_k):\n",
        "  sigma_mtrx = np.zeros((n,4*G))\n",
        "  for p in range(0,G):\n",
        "    #shift in python is confusing\n",
        "    #2 dim of sigma thinks sigma as [a,b] -> [a**2,ab,ab,b**2].reshape((2,2))\n",
        "    #in addition need to apply weight\n",
        "\n",
        "    sigma_mtrx[:, (4*p)] = dif_u_by_k[:,(2*p)]*dif_u_by_k[:,(2*p)]\n",
        "    sigma_mtrx[:, (4*p+1)] = dif_u_by_k[:,(2*p)]*dif_u_by_k[:,(2*p+1)]\n",
        "    sigma_mtrx[:, (4*p+2)] = dif_u_by_k[:,(2*p)]*dif_u_by_k[:,(2*p+1)]\n",
        "    sigma_mtrx[:, (4*p+3)] = dif_u_by_k[:,(2*p+1)]*dif_u_by_k[:,(2*p+1)]\n",
        "\n",
        "\n",
        "  weighted_sigma_mtrx = np.zeros((n,4*G))\n",
        "  #apply weight from w_i_k\n",
        "  for p in range(0,G):\n",
        "    weighted_sigma_mtrx[:, (4*p):(4*(p+1))]=sigma_mtrx[:, (4*p):(4*(p+1))]*w_i_k[:,p].reshape((n,1))\n",
        "\n",
        "\n",
        "  #fold a sigma\n",
        "  sigma = (weighted_sigma_mtrx.sum(axis=0).reshape((G,4)).sum(axis=0)/n).reshape((2,2))\n",
        "  #very close to very version i got use pd framework\n",
        "  # sigma = [[  1.29793889  13.92641885]\n",
        "  # [ 13.92641885 184.14381488]],\n",
        "\n",
        "  print(f'sigma \\n{sigma}')\n",
        "  return sigma"
      ],
      "metadata": {
        "id": "uI1OC4DaR9vP"
      },
      "execution_count": 39,
      "outputs": []
    },
    {
      "cell_type": "code",
      "source": [
        "def Estep(G,sigma,dif_u_by_k,p_mtrx):\n",
        "  sigma_inv = np.linalg.inv(sigma)\n",
        "  sigma_det = np.linalg.det(sigma)\n",
        "\n",
        "\n",
        "  # create function to calculate the prob density function (xi-ug)t sigma_inv (xi-ug)\n",
        "  # also: matrix = vector[a,b], sigma = array[[c,d],[d,e]]\n",
        "  # matrix @ sigma @ matrix.T = a2⋅c+2⋅a⋅b⋅d+b2⋅e\n",
        "  # i prob should name it pdf function\n",
        "\n",
        "  sigma_inv_mtrx = np.zeros((n,G))\n",
        "\n",
        "  for p in range(0,G):\n",
        "    #in addition need to apply weight\n",
        "    #python is confusion, p needs to shift -1 to map to corre colums\n",
        "\n",
        "    sigma_inv_mtrx[:, p] = dif_u_by_k[:,(2*p)]*dif_u_by_k[:,(2*p)]*sigma_inv[0,0] + \\\n",
        "                                  2 * dif_u_by_k[:,(2*p)]*dif_u_by_k[:,(2*p+1)]*sigma_inv[0,1] +\\\n",
        "                                  dif_u_by_k[:,(2*p+1)]*dif_u_by_k[:,(2*p+1)]*sigma_inv[1,1]\n",
        "\n",
        "  #apply weight from w_i_k\n",
        "  #for p in range(1,G+1):\n",
        "  #  sigma_inv_mtrx[:, p]=sigma_inv_mtrx[:, p]*w_i_k[:,p]\n",
        "\n",
        "\n",
        "  #convert sigma_inv into pdf function\n",
        "  #have p_mtrx to carry all p for each group\n",
        "  pdf_mtrx = np.zeros((n,G))\n",
        "  pdf_log_mtrx = np.zeros((n,G))\n",
        "  for p in range(0,G):\n",
        "    pdf_mtrx[:, p]=(p_mtrx[p]*np.exp(-0.5*sigma_inv_mtrx[:, p]))/(((2*np.pi)**2)*sigma_det)**0.5\n",
        "    pdf_log_mtrx[:, p] = np.nan_to_num(np.log(pdf_mtrx[:, p]), neginf=0)\n",
        "\n",
        "\n",
        "  loglik_output = loglik(pdf_mtrx)\n",
        "\n",
        "\n",
        "  loglik_complete = pdf_log_mtrx.sum()\n",
        "  loglik_complete\n",
        "\n",
        "  w_i_k = pdf_mtrx/(pdf_mtrx.sum(axis = 1).reshape((n,1)))\n",
        "\n",
        "  return w_i_k\n"
      ],
      "metadata": {
        "id": "4sTedkPgS0_c"
      },
      "execution_count": 40,
      "outputs": []
    },
    {
      "cell_type": "code",
      "source": [
        "def loglik(pdf_mtrx):\n",
        "  loglik_output = np.log(np.array(pdf_mtrx.sum(axis = 1))).sum()\n",
        "  print(f'loglik = {loglik_output}')\n",
        "  return loglik_output"
      ],
      "metadata": {
        "id": "T8X_jIlXUFQR"
      },
      "execution_count": 41,
      "outputs": []
    },
    {
      "cell_type": "code",
      "source": [
        "def Mstep(G,w_i_k,data):\n",
        "  p_mtrx = w_i_k.sum(axis = 0)/n\n",
        "  print(f'prob = {p_mtrx} \\n')\n",
        "\n",
        "  #get the responsiblity for erp and wait for each xi based on the weight for each G\n",
        "  erp_r = np.reshape(data['eruptions'],(n,1)) * w_i_k\n",
        "  wait_r = np.reshape(data['waiting'],(n,1)) * w_i_k\n",
        "\n",
        "  # checked\n",
        "  erp_r_mean = erp_r.sum(axis=0)/ w_i_k.sum(axis=0)\n",
        "  wait_r_mean = wait_r.sum(axis=0)/ w_i_k.sum(axis=0)\n",
        "  r_mean = np.vstack((erp_r_mean, wait_r_mean))\n",
        "  print(f'mean for each G is \\n {r_mean}')\n",
        "\n",
        "\n",
        "  xi_mtrx = np.reshape(np.array(data),(n,2))\n",
        "  #u_by_k is the the center each group G\n",
        "  #dif_u_by_k is the difference from xi to the center each group G\n",
        "\n",
        "  for p in range(0,G):\n",
        "    dif_u_by_k_tmp = xi_mtrx - r_mean.T[p]\n",
        "\n",
        "    if p == 0:\n",
        "      dif_u_by_k = dif_u_by_k_tmp\n",
        "    else:\n",
        "      dif_u_by_k = np.concatenate((dif_u_by_k,dif_u_by_k_tmp),axis=1)\n",
        "\n",
        "  sigma = sigma_cal(G,dif_u_by_k,w_i_k)\n",
        "\n",
        "\n",
        "  return p_mtrx, dif_u_by_k, sigma"
      ],
      "metadata": {
        "id": "zGyDzQtTUg2d"
      },
      "execution_count": 42,
      "outputs": []
    },
    {
      "cell_type": "code",
      "source": [
        "# initialize the data G=2\n",
        "G=2 #group number\n",
        "n = len(data) #length/row count/sample count of the data\n"
      ],
      "metadata": {
        "id": "Ph0NZf9IVzxD"
      },
      "execution_count": 43,
      "outputs": []
    },
    {
      "cell_type": "code",
      "source": [
        "myEM(data,2,20)"
      ],
      "metadata": {
        "colab": {
          "base_uri": "https://localhost:8080/"
        },
        "id": "w-hYShzDW6OY",
        "outputId": "bfc741c7-950a-4c99-f0f6-595e1a5f21ea"
      },
      "execution_count": 44,
      "outputs": [
        {
          "output_type": "stream",
          "name": "stdout",
          "text": [
            "-----------------------------------\n",
            " Iteration = 1 \n",
            "\n",
            "prob = [0.03676471 0.96323529] \n",
            "\n",
            "mean for each G is \n",
            " [[ 3.3032      3.49482824]\n",
            " [71.8        70.86259542]]\n",
            "sigma \n",
            "[[  1.29663847  13.93278021]\n",
            " [ 13.93278021 184.11269645]]\n",
            "loglik = -1289.7693469979179\n",
            "prob = [0.03685524 0.96314476] \n",
            "\n",
            "mean for each G is \n",
            " [[ 3.31211483  3.49450513]\n",
            " [71.98706055 70.85534934]]\n",
            "sigma \n",
            "[[  1.29675804  13.93374588]\n",
            " [ 13.93374588 184.09835147]]\n",
            "loglik = -1289.7659495557787\n",
            "-----------------------------------\n",
            " Iteration = 2 \n",
            "\n",
            "prob = [0.03695665 0.96304335] \n",
            "\n",
            "mean for each G is \n",
            " [[ 3.32141524  3.49416743]\n",
            " [72.18428601 70.84766166]]\n",
            "sigma \n",
            "[[  1.29687674  13.93463695]\n",
            " [ 13.93463695 184.08022951]]\n",
            "loglik = -1289.7620959265478\n",
            "-----------------------------------\n",
            " Iteration = 3 \n",
            "\n",
            "prob = [0.03707039 0.96292961] \n",
            "\n",
            "mean for each G is \n",
            " [[ 3.33107607  3.49381592]\n",
            " [72.39169037 70.83951923]]\n",
            "sigma \n",
            "[[  1.2969935   13.93543571]\n",
            " [ 13.93543571 184.05781438]]\n",
            "loglik = -1289.7577343093897\n",
            "-----------------------------------\n",
            " Iteration = 4 \n",
            "\n",
            "prob = [0.03719806 0.96280194] \n",
            "\n",
            "mean for each G is \n",
            " [[ 3.34106474  3.49345158]\n",
            " [72.60918431 70.83091048]]\n",
            "sigma \n",
            "[[  1.29710722  13.93612402]\n",
            " [ 13.93612402 184.03056062]]\n",
            "loglik = -1289.7528097638979\n",
            "-----------------------------------\n",
            " Iteration = 5 \n",
            "\n",
            "prob = [0.03734143 0.96265857] \n",
            "\n",
            "mean for each G is \n",
            " [[ 3.35134091  3.49307567]\n",
            " [72.83655944 70.82182578]]\n",
            "sigma \n",
            "[[  1.29721676  13.93668381]\n",
            " [ 13.93668381 183.99790035]]\n",
            "loglik = -1289.747264889155\n",
            "-----------------------------------\n",
            " Iteration = 6 \n",
            "\n",
            "prob = [0.03750245 0.96249755] \n",
            "\n",
            "mean for each G is \n",
            " [[ 3.36185629  3.49268966]\n",
            " [73.07347255 70.81225773]]\n",
            "sigma \n",
            "[[  1.29732102  13.93709758]\n",
            " [ 13.93709758 183.95925263]]\n",
            "loglik = -1289.7410408624169\n",
            "-----------------------------------\n",
            " Iteration = 7 \n",
            "\n",
            "prob = [0.03768322 0.96231678] \n",
            "\n",
            "mean for each G is \n",
            " [[ 3.37255473  3.4922953 ]\n",
            " [73.31943031 70.80220153]]\n",
            "sigma \n",
            "[[  1.29741896  13.9373491 ]\n",
            " [ 13.9373491  183.91403527]]\n",
            "loglik = -1289.734078934592\n",
            "-----------------------------------\n",
            " Iteration = 8 \n",
            "\n",
            "prob = [0.03788606 0.96211394] \n",
            "\n",
            "mean for each G is \n",
            " [[ 3.38337269  3.49189455]\n",
            " [73.57377514 70.79165527]]\n",
            "sigma \n",
            "[[  1.29750961  13.93742407]\n",
            " [ 13.93742407 183.86167948]]\n",
            "loglik = -1289.7263224870342\n",
            "-----------------------------------\n",
            " Iteration = 9 \n",
            "\n",
            "prob = [0.03811339 0.96188661] \n",
            "\n",
            "mean for each G is \n",
            " [[ 3.39424004  3.4914896 ]\n",
            " [73.83567288 70.78062041]]\n",
            "sigma \n",
            "[[  1.29759217  13.93731085]\n",
            " [ 13.93731085 183.80164731]]\n",
            "loglik = -1289.7177197481262\n",
            "-----------------------------------\n",
            " Iteration = 10 \n",
            "\n",
            "prob = [0.03836783 0.96163217] \n",
            "\n",
            "mean for each G is \n",
            " [[ 3.40508134  3.49108278]\n",
            " [74.10410325 70.76910206]]\n",
            "sigma \n",
            "[[  1.297666    13.9370011 ]\n",
            " [ 13.9370011  183.73345184]]\n",
            "loglik = -1289.7082272381667\n",
            "-----------------------------------\n",
            " Iteration = 11 \n",
            "\n",
            "prob = [0.03865208 0.96134792] \n",
            "\n",
            "mean for each G is \n",
            " [[ 3.41581743  3.49067655]\n",
            " [74.37785384 70.75710952]]\n",
            "sigma \n",
            "[[  1.29773066  13.93649039]\n",
            " [ 13.93649039 183.65668004]]\n",
            "loglik = -1289.6978139445628\n",
            "-----------------------------------\n",
            " Iteration = 12 \n",
            "\n",
            "prob = [0.03896892 0.96103108] \n",
            "\n",
            "mean for each G is \n",
            " [[ 3.42636742  3.49027344]\n",
            " [74.6555191  70.74465674]]\n",
            "sigma \n",
            "[[  1.29778594  13.93577872]\n",
            " [ 13.93577872 183.5710177 ]]\n",
            "loglik = -1289.686466114012\n",
            "-----------------------------------\n",
            " Iteration = 13 \n",
            "\n",
            "prob = [0.03932114 0.96067886] \n",
            "\n",
            "mean for each G is \n",
            " [[ 3.43665103  3.48987595]\n",
            " [74.93550544 70.73176286]]\n",
            "sigma \n",
            "[[  1.29783188  13.93487077]\n",
            " [ 13.93487077 183.47627594]]\n",
            "loglik = -1289.6741923782672\n",
            "-----------------------------------\n",
            " Iteration = 14 \n",
            "\n",
            "prob = [0.03971149 0.96028851] \n",
            "\n",
            "mean for each G is \n",
            " [[ 3.44659098  3.48948653]\n",
            " [75.21604425 70.71845275]]\n",
            "sigma \n",
            "[[  1.29786872  13.93377601]\n",
            " [ 13.93377601 183.37241786]]\n",
            "loglik = -1289.6610287133656\n",
            "-----------------------------------\n",
            " Iteration = 15 \n",
            "\n",
            "prob = [0.04014257 0.95985743] \n",
            "\n",
            "mean for each G is \n",
            " [[ 3.45611548  3.48910747]\n",
            " [75.49521443 70.70475758]]\n",
            "sigma \n",
            "[[  1.29789695  13.93250857]\n",
            " [ 13.93250857 183.25958386]]\n",
            "loglik = -1289.6470425008174\n",
            "-----------------------------------\n",
            " Iteration = 16 \n",
            "\n",
            "prob = [0.04061674 0.95938326] \n",
            "\n",
            "mean for each G is \n",
            " [[ 3.46516056  3.48874084]\n",
            " [75.77097611 70.69071518]]\n",
            "sigma \n",
            "[[  1.29791722  13.93108686]\n",
            " [ 13.93108686 183.13811301]]\n",
            "loglik = -1289.6323347743337\n",
            "-----------------------------------\n",
            " Iteration = 17 \n",
            "\n",
            "prob = [0.04113606 0.95886394] \n",
            "\n",
            "mean for each G is \n",
            " [[ 3.47367213  3.48838846]\n",
            " [76.04121668 70.67637016]]\n",
            "sigma \n",
            "[[  1.29793035  13.92953298]\n",
            " [ 13.92953298 183.00855753]]\n",
            "loglik = -1289.6170396838722\n",
            "-----------------------------------\n",
            " Iteration = 18 \n",
            "\n",
            "prob = [0.04170217 0.95829783] \n",
            "\n",
            "mean for each G is \n",
            " [[ 3.48160752  3.48805183]\n",
            " [76.3038091  70.6617737 ]]\n",
            "sigma \n",
            "[[  1.29793723  13.92787187]\n",
            " [ 13.92787187 182.871687  ]]\n",
            "loglik = -1289.6013203805903\n",
            "-----------------------------------\n",
            " Iteration = 19 \n",
            "\n",
            "prob = [0.04231622 0.95768378] \n",
            "\n",
            "mean for each G is \n",
            " [[ 3.48893654  3.48773212]\n",
            " [76.55668111 70.64698275]]\n",
            "sigma \n",
            "[[  1.29793883  13.9261304 ]\n",
            " [ 13.9261304  182.72847877]]\n",
            "loglik = -1289.5853609772537\n",
            "-----------------------------------\n",
            " Iteration = 20 \n",
            "\n",
            "prob = [0.04297883 0.95702117] \n",
            "\n",
            "mean for each G is \n",
            " [[ 3.49564188  3.48743016]\n",
            " [76.79789154 70.63205853]]\n",
            "sigma \n",
            "[[  1.29793612  13.92433626]\n",
            " [ 13.92433626 182.58009247]]\n",
            "loglik = -1289.5693549424104\n",
            "-----------------------------------\n",
            " Iteration = 21 \n",
            "\n"
          ]
        }
      ]
    },
    {
      "cell_type": "code",
      "source": [
        "#initialize w_i_k (weight of probability of xi for group k)\n",
        "w_i_k = np.zeros((272, G))\n",
        "w_i_k[:10,0] = 1.0\n",
        "\n",
        "if G==2:\n",
        "  w_i_k[10:,1] = 1.0\n",
        "else:\n",
        "  w_i_k[10:30,1] = 1.0\n",
        "  w_i_k[30:,2] = 1.0\n",
        "\n",
        "w_i_k.shape"
      ],
      "metadata": {
        "colab": {
          "base_uri": "https://localhost:8080/"
        },
        "id": "OqOZIxHnst31",
        "outputId": "038a31aa-6b80-4073-b019-b9f85d5acaaa"
      },
      "execution_count": 13,
      "outputs": [
        {
          "output_type": "execute_result",
          "data": {
            "text/plain": [
              "(272, 2)"
            ]
          },
          "metadata": {},
          "execution_count": 13
        }
      ]
    },
    {
      "cell_type": "code",
      "source": [
        "p_mtrx = w_i_k.sum(axis = 0)/n\n",
        "p_mtrx"
      ],
      "metadata": {
        "colab": {
          "base_uri": "https://localhost:8080/"
        },
        "id": "utNSUipirpFL",
        "outputId": "05c7d988-01b7-4d1d-b36e-841ac036913d"
      },
      "execution_count": 14,
      "outputs": [
        {
          "output_type": "execute_result",
          "data": {
            "text/plain": [
              "array([0.03676471, 0.96323529])"
            ]
          },
          "metadata": {},
          "execution_count": 14
        }
      ]
    },
    {
      "cell_type": "code",
      "source": [
        "#initialize u for each group: https://campuswire.com/c/GB46E5679/feed/589\n",
        "#get the responsiblity for erp and wait for each xi based on the weight for each G\n",
        "erp_r = np.reshape(data['eruptions'],(n,1)) * w_i_k\n",
        "wait_r = np.reshape(data['waiting'],(n,1)) * w_i_k"
      ],
      "metadata": {
        "id": "Zw-epwChsSBS"
      },
      "execution_count": 15,
      "outputs": []
    },
    {
      "cell_type": "code",
      "source": [
        "# checked\n",
        "erp_r_mean = erp_r.sum(axis=0)/ w_i_k.sum(axis=0)\n",
        "wait_r_mean = wait_r.sum(axis=0)/ w_i_k.sum(axis=0)\n",
        "r_mean = np.vstack((erp_r_mean, wait_r_mean))\n",
        "print(f'mean for each G is \\n {r_mean}')"
      ],
      "metadata": {
        "colab": {
          "base_uri": "https://localhost:8080/"
        },
        "id": "SoGydCuyxjWa",
        "outputId": "53ec7628-839f-4aba-94aa-ff3907bdff02"
      },
      "execution_count": 16,
      "outputs": [
        {
          "output_type": "stream",
          "name": "stdout",
          "text": [
            "mean for each G is \n",
            " [[ 3.3032      3.49482824]\n",
            " [71.8        70.86259542]]\n"
          ]
        }
      ]
    },
    {
      "cell_type": "code",
      "source": [
        "xi_mtrx = np.reshape(np.array(data),(n,2))\n",
        "#u_by_k is the the center each group G\n",
        "#dif_u_by_k is the difference from xi to the center each group G\n",
        "\n",
        "for p in range(0,G):\n",
        "  dif_u_by_k_tmp = xi_mtrx - r_mean.T[p]\n",
        "\n",
        "  if p == 0:\n",
        "    dif_u_by_k = dif_u_by_k_tmp\n",
        "  else:\n",
        "    dif_u_by_k = np.concatenate((dif_u_by_k,dif_u_by_k_tmp),axis=1)"
      ],
      "metadata": {
        "id": "epAQ0hzr2oAo"
      },
      "execution_count": 17,
      "outputs": []
    },
    {
      "cell_type": "code",
      "source": [
        "# calculate sigma\n",
        "# the form provide by the instruction is BAD - consider sigma with with weight as well\n",
        "# already know w_i_k (weight/responsibility)\n",
        "sigma_mtrx = np.zeros((n,4*G))\n",
        "for p in range(0,G):\n",
        "  #shift in python is confusing\n",
        "  #2 dim of sigma thinks sigma as [a,b] -> [a**2,ab,ab,b**2].reshape((2,2))\n",
        "  #in addition need to apply weight\n",
        "\n",
        "  sigma_mtrx[:, (4*p)] = dif_u_by_k[:,(2*p)]*dif_u_by_k[:,(2*p)]\n",
        "  sigma_mtrx[:, (4*p+1)] = dif_u_by_k[:,(2*p)]*dif_u_by_k[:,(2*p+1)]\n",
        "  sigma_mtrx[:, (4*p+2)] = dif_u_by_k[:,(2*p)]*dif_u_by_k[:,(2*p+1)]\n",
        "  sigma_mtrx[:, (4*p+3)] = dif_u_by_k[:,(2*p+1)]*dif_u_by_k[:,(2*p+1)]\n",
        "\n"
      ],
      "metadata": {
        "id": "rqgA2oGGGnmd"
      },
      "execution_count": 18,
      "outputs": []
    },
    {
      "cell_type": "code",
      "source": [
        "weighted_sigma_mtrx = np.zeros((n,4*G))\n",
        "#apply weight from w_i_k\n",
        "for p in range(0,G):\n",
        "  weighted_sigma_mtrx[:, (4*p):(4*(p+1))]=sigma_mtrx[:, (4*p):(4*(p+1))]*w_i_k[:,p].reshape((n,1))\n",
        "\n"
      ],
      "metadata": {
        "id": "48MvoWAuCmh8"
      },
      "execution_count": 19,
      "outputs": []
    },
    {
      "cell_type": "code",
      "source": [
        "#fold a sigma\n",
        "sigma = (weighted_sigma_mtrx.sum(axis=0).reshape((G,4)).sum(axis=0)/n).reshape((2,2))\n",
        " #very close to very version i got use pd framework\n",
        " # sigma = [[  1.29793889  13.92641885]\n",
        " # [ 13.92641885 184.14381488]],\n",
        "print(f'sigma \\n{sigma}')"
      ],
      "metadata": {
        "colab": {
          "base_uri": "https://localhost:8080/"
        },
        "id": "SBiah2kTD4da",
        "outputId": "2e31e782-f586-4de4-9f6a-7fc3e22179d6"
      },
      "execution_count": 20,
      "outputs": [
        {
          "output_type": "stream",
          "name": "stdout",
          "text": [
            "sigma \n",
            "[[  1.29663847  13.93278021]\n",
            " [ 13.93278021 184.11269645]]\n"
          ]
        }
      ]
    },
    {
      "cell_type": "code",
      "source": [
        "sigma_det = np.linalg.det(sigma)\n",
        "sigma_det"
      ],
      "metadata": {
        "colab": {
          "base_uri": "https://localhost:8080/"
        },
        "id": "5Gec-UGoRdcw",
        "outputId": "21608023-9212-4c41-fcd2-636e60cfd177"
      },
      "execution_count": 21,
      "outputs": [
        {
          "output_type": "execute_result",
          "data": {
            "text/plain": [
              "44.60524138701267"
            ]
          },
          "metadata": {},
          "execution_count": 21
        }
      ]
    },
    {
      "cell_type": "code",
      "source": [
        "sigma_inv = np.linalg.inv(sigma)\n",
        "sigma_inv\n"
      ],
      "metadata": {
        "colab": {
          "base_uri": "https://localhost:8080/"
        },
        "id": "BfMdZ0CqR-sH",
        "outputId": "b1177fa6-19c8-47ea-d15e-5c17302193d2"
      },
      "execution_count": 22,
      "outputs": [
        {
          "output_type": "execute_result",
          "data": {
            "text/plain": [
              "array([[ 4.12760229, -0.31235747],\n",
              "       [-0.31235747,  0.0290692 ]])"
            ]
          },
          "metadata": {},
          "execution_count": 22
        }
      ]
    },
    {
      "cell_type": "code",
      "source": [
        "# create function to calculate the prob density function (xi-ug)t sigma_inv (xi-ug)\n",
        "# also: matrix = vector[a,b], sigma = array[[c,d],[d,e]]\n",
        "# matrix @ sigma @ matrix.T = a2⋅c+2⋅a⋅b⋅d+b2⋅e\n",
        "# i prob should name it pdf function\n",
        "\n",
        "sigma_inv_mtrx = np.zeros((n,G))\n",
        "\n",
        "for p in range(0,G):\n",
        "  #in addition need to apply weight\n",
        "  #python is confusion, p needs to shift -1 to map to corre colums\n",
        "\n",
        "  sigma_inv_mtrx[:, p] = dif_u_by_k[:,(2*p)]*dif_u_by_k[:,(2*p)]*sigma_inv[0,0] + \\\n",
        "                                2 * dif_u_by_k[:,(2*p)]*dif_u_by_k[:,(2*p+1)]*sigma_inv[0,1] +\\\n",
        "                                 dif_u_by_k[:,(2*p+1)]*dif_u_by_k[:,(2*p+1)]*sigma_inv[1,1]\n",
        "\n",
        "#apply weight from w_i_k\n",
        "#for p in range(1,G+1):\n",
        "#  sigma_inv_mtrx[:, p]=sigma_inv_mtrx[:, p]*w_i_k[:,p]\n",
        "\n"
      ],
      "metadata": {
        "id": "RScn6vAGWKvr"
      },
      "execution_count": 23,
      "outputs": []
    },
    {
      "cell_type": "code",
      "source": [
        "#convert sigma_inv into pdf function\n",
        "#have p_mtrx to carry all p for each group\n",
        "pdf_mtrx = np.zeros((n,G))\n",
        "pdf_log_mtrx = np.zeros((n,G))\n",
        "for p in range(0,G):\n",
        "  pdf_mtrx[:, p]=(p_mtrx[p]*np.exp(-0.5*sigma_inv_mtrx[:, p]))/(((2*np.pi)**2)*sigma_det)**0.5\n",
        "  pdf_log_mtrx[:, p] = np.nan_to_num(np.log(pdf_mtrx[:, p]), neginf=0)"
      ],
      "metadata": {
        "id": "qUPi8lKkdsYe"
      },
      "execution_count": 24,
      "outputs": []
    },
    {
      "cell_type": "code",
      "source": [
        "loglik = np.log(np.array(pdf_mtrx.sum(axis = 1))).sum()\n",
        "loglik\n",
        "print(f'loglik = {loglik}')"
      ],
      "metadata": {
        "colab": {
          "base_uri": "https://localhost:8080/"
        },
        "id": "n9xE2QtNTTgy",
        "outputId": "0c11247a-2c91-4b36-8813-e5ce20fc1a8b"
      },
      "execution_count": 25,
      "outputs": [
        {
          "output_type": "stream",
          "name": "stdout",
          "text": [
            "loglik = -1289.7693469979179\n"
          ]
        }
      ]
    },
    {
      "cell_type": "code",
      "source": [
        "# initially will be the same\n",
        "loglik_complete = pdf_log_mtrx.sum()\n",
        "loglik_complete"
      ],
      "metadata": {
        "colab": {
          "base_uri": "https://localhost:8080/"
        },
        "id": "QKe8swK1jPA7",
        "outputId": "1dd08656-49f9-4e6d-ffc9-bf52071fef8a"
      },
      "execution_count": 26,
      "outputs": [
        {
          "output_type": "execute_result",
          "data": {
            "text/plain": [
              "-3524.8336908523875"
            ]
          },
          "metadata": {},
          "execution_count": 26
        }
      ]
    },
    {
      "cell_type": "code",
      "source": [
        "pdf_mtrx.sum(axis = 1)"
      ],
      "metadata": {
        "colab": {
          "base_uri": "https://localhost:8080/"
        },
        "id": "dC9Jh4agt5NS",
        "outputId": "7d58c881-408e-488a-87b7-e85e3234a961"
      },
      "execution_count": 27,
      "outputs": [
        {
          "output_type": "execute_result",
          "data": {
            "text/plain": [
              "array([0.01186619, 0.00773701, 0.01691538, 0.01070829, 0.01380064,\n",
              "       0.00576138, 0.01056542, 0.00215182, 0.00807877, 0.01267222,\n",
              "       0.00815967, 0.00779203, 0.01943679, 0.00498499, 0.01331971,\n",
              "       0.00878765, 0.00188761, 0.01206216, 0.00584146, 0.01896788,\n",
              "       0.00755572, 0.00498499, 0.01050173, 0.0200435 , 0.00603425,\n",
              "       0.00426152, 0.00969328, 0.02022078, 0.01940537, 0.01585006,\n",
              "       0.00980778, 0.01241188, 0.01958553, 0.0181431 , 0.02254378,\n",
              "       0.00896385, 0.00557538, 0.00785115, 0.00502822, 0.00840148,\n",
              "       0.01781452, 0.00670537, 0.01464594, 0.00459466, 0.00470525,\n",
              "       0.00143614, 0.0044843 , 0.0099171 , 0.01403664, 0.00794994,\n",
              "       0.00290735, 0.00798848, 0.00815967, 0.00785115, 0.00685083,\n",
              "       0.00996488, 0.02147349, 0.00066747, 0.00984011, 0.01782137,\n",
              "       0.01246352, 0.01486237, 0.00571432, 0.01076632, 0.0039653 ,\n",
              "       0.00271865, 0.01985418, 0.00815701, 0.00309631, 0.0024227 ,\n",
              "       0.01419038, 0.0094363 , 0.01434062, 0.01411689, 0.00464414,\n",
              "       0.00119838, 0.00729461, 0.01135888, 0.02209121, 0.00426152,\n",
              "       0.01803579, 0.01696435, 0.00920335, 0.01530933, 0.01635644,\n",
              "       0.01022834, 0.02184084, 0.01495352, 0.00405031, 0.00566276,\n",
              "       0.01105146, 0.00421626, 0.00722361, 0.00574025, 0.00203977,\n",
              "       0.00798774, 0.01384742, 0.02254171, 0.00787407, 0.00869558,\n",
              "       0.01525146, 0.00753218, 0.00557555, 0.01563329, 0.01651879,\n",
              "       0.00469056, 0.01347198, 0.00769327, 0.01157134, 0.00925983,\n",
              "       0.00379313, 0.01361465, 0.00970155, 0.01618928, 0.00321982,\n",
              "       0.01337394, 0.00514869, 0.01375946, 0.0047838 , 0.00987614,\n",
              "       0.00617999, 0.00808109, 0.01783799, 0.0094363 , 0.01000884,\n",
              "       0.01109541, 0.00282657, 0.01597669, 0.01193538, 0.00746667,\n",
              "       0.0030442 , 0.01419737, 0.00876888, 0.00554781, 0.00396645,\n",
              "       0.01686303, 0.0079305 , 0.01059213, 0.00973171, 0.01502771,\n",
              "       0.01795613, 0.01173965, 0.01557659, 0.00460089, 0.01437708,\n",
              "       0.00762712, 0.01237954, 0.0060205 , 0.00361748, 0.00790017,\n",
              "       0.00193958, 0.0213246 , 0.0092808 , 0.01404723, 0.02347674,\n",
              "       0.0119109 , 0.01586317, 0.00059281, 0.00790017, 0.00193244,\n",
              "       0.00153064, 0.00795575, 0.00881123, 0.01915803, 0.0164972 ,\n",
              "       0.00790946, 0.01141217, 0.0097252 , 0.00870665, 0.00344335,\n",
              "       0.00636084, 0.01085468, 0.00944519, 0.0229945 , 0.01770085,\n",
              "       0.01773767, 0.00529241, 0.00426596, 0.00735984, 0.01544718,\n",
              "       0.00856177, 0.00944519, 0.01517195, 0.00695649, 0.00805833,\n",
              "       0.01473407, 0.01078295, 0.00396645, 0.01592341, 0.01168532,\n",
              "       0.00973991, 0.00665085, 0.00382344, 0.01107742, 0.02142107,\n",
              "       0.01795613, 0.00060663, 0.01505171, 0.00700566, 0.00891569,\n",
              "       0.00895696, 0.01694927, 0.00165599, 0.00858105, 0.01053411,\n",
              "       0.0041342 , 0.01502608, 0.00662121, 0.00632251, 0.01563329,\n",
              "       0.00189656, 0.0108242 , 0.00643846, 0.02260132, 0.01377544,\n",
              "       0.01699337, 0.00861336, 0.00377375, 0.01009782, 0.01892416,\n",
              "       0.00722361, 0.01683348, 0.00707783, 0.00869357, 0.02064723,\n",
              "       0.01983006, 0.0205401 , 0.01836244, 0.01430064, 0.01314988,\n",
              "       0.00964372, 0.01001741, 0.00846912, 0.00596412, 0.00545993,\n",
              "       0.00876994, 0.00837182, 0.01709235, 0.01892664, 0.00916758,\n",
              "       0.01761109, 0.00201299, 0.01059213, 0.02002216, 0.01379385,\n",
              "       0.0102746 , 0.01085468, 0.0169142 , 0.00229436, 0.01034214,\n",
              "       0.01092467, 0.01586085, 0.02311912, 0.00529241, 0.00473896,\n",
              "       0.01452137, 0.01651787, 0.01586085, 0.00993071, 0.01855066,\n",
              "       0.00671636, 0.01478928, 0.00614608, 0.01517195, 0.00135708,\n",
              "       0.01208978, 0.00355182, 0.01730363, 0.00240256, 0.00510467,\n",
              "       0.00402386, 0.00744567])"
            ]
          },
          "metadata": {},
          "execution_count": 27
        }
      ]
    },
    {
      "cell_type": "code",
      "source": [
        "#Estep\n",
        "w_i_k = pdf_mtrx/(pdf_mtrx.sum(axis = 1).reshape((n,1)))"
      ],
      "metadata": {
        "id": "6ixH99Nwj-xV"
      },
      "execution_count": 28,
      "outputs": []
    },
    {
      "cell_type": "code",
      "source": [
        "p_mtrx = w_i_k.sum(axis = 0)/n\n",
        "p_mtrx"
      ],
      "metadata": {
        "colab": {
          "base_uri": "https://localhost:8080/"
        },
        "id": "JPgxREJElTdm",
        "outputId": "a0dbf506-5ef4-4dc7-f61c-28905d131662"
      },
      "execution_count": 29,
      "outputs": [
        {
          "output_type": "execute_result",
          "data": {
            "text/plain": [
              "array([0.03685524, 0.96314476])"
            ]
          },
          "metadata": {},
          "execution_count": 29
        }
      ]
    },
    {
      "cell_type": "code",
      "source": [
        "#https://jaykmody.com/blog/distance-matrices-with-numpy/"
      ],
      "metadata": {
        "id": "1nrrqHJOCBs2"
      },
      "execution_count": 30,
      "outputs": []
    },
    {
      "cell_type": "code",
      "source": [
        "X = np.array([[1,2]])\n",
        "X_train = np.array([[3,4]])"
      ],
      "metadata": {
        "id": "W0rbBBIiBBsK"
      },
      "execution_count": 31,
      "outputs": []
    },
    {
      "cell_type": "code",
      "source": [
        "x2 = np.sum(X**2, axis=1) # shape of (m)\n",
        "y2 = np.sum(X_train**2, axis=1) # shape of (n)\n",
        "\n",
        "xy = np.matmul(X, X_train.T)\n",
        "\n",
        "x2 = x2.reshape(-1, 1)\n",
        "dists = np.sqrt(x2 - 2*xy + y2) # (m, 1) repeat columnwise + (m, n) + (n) repeat rowwise -> (m, n)"
      ],
      "metadata": {
        "id": "hQUxYRUeCIKu"
      },
      "execution_count": 32,
      "outputs": []
    },
    {
      "cell_type": "code",
      "source": [
        "dists"
      ],
      "metadata": {
        "colab": {
          "base_uri": "https://localhost:8080/"
        },
        "id": "aCmUL28qCjlr",
        "outputId": "98aad937-f492-4cf6-e899-e87eb0399f2c"
      },
      "execution_count": 33,
      "outputs": [
        {
          "output_type": "execute_result",
          "data": {
            "text/plain": [
              "array([[2.82842712]])"
            ]
          },
          "metadata": {},
          "execution_count": 33
        }
      ]
    },
    {
      "cell_type": "code",
      "source": [
        "for p in range(1,p+1):\n",
        "  erp_col = 2*p\n",
        "  wait_col = 2*p+2\n",
        "\n",
        "  print(dif_u_by_k[:,erp_col:wait_col])"
      ],
      "metadata": {
        "colab": {
          "base_uri": "https://localhost:8080/"
        },
        "id": "O4ETD_80-EDV",
        "outputId": "c139fbb0-34bf-4dd8-ae6e-872df529404c"
      },
      "execution_count": 34,
      "outputs": [
        {
          "output_type": "stream",
          "name": "stdout",
          "text": [
            "[[ 1.05171756e-01  8.13740458e+00]\n",
            " [-1.69482824e+00 -1.68625954e+01]\n",
            " [-1.61828244e-01  3.13740458e+00]\n",
            " [-1.21182824e+00 -8.86259542e+00]\n",
            " [ 1.03817176e+00  1.41374046e+01]\n",
            " [-6.11828244e-01 -1.58625954e+01]\n",
            " [ 1.20517176e+00  1.71374046e+01]\n",
            " [ 1.05171756e-01  1.41374046e+01]\n",
            " [-1.54482824e+00 -1.98625954e+01]\n",
            " [ 8.55171756e-01  1.41374046e+01]\n",
            " [-1.66182824e+00 -1.68625954e+01]\n",
            " [ 4.22171756e-01  1.31374046e+01]\n",
            " [ 7.05171756e-01  7.13740458e+00]\n",
            " [-1.74482824e+00 -2.38625954e+01]\n",
            " [ 1.20517176e+00  1.21374046e+01]\n",
            " [-1.32782824e+00 -1.88625954e+01]\n",
            " [-1.74482824e+00 -8.86259542e+00]\n",
            " [ 1.30517176e+00  1.31374046e+01]\n",
            " [-1.89482824e+00 -1.88625954e+01]\n",
            " [ 7.55171756e-01  8.13740458e+00]\n",
            " [-1.69482824e+00 -1.98625954e+01]\n",
            " [-1.74482824e+00 -2.38625954e+01]\n",
            " [-4.48282443e-02  7.13740458e+00]\n",
            " [-4.27828244e-01 -1.86259542e+00]\n",
            " [ 1.03817176e+00  3.13740458e+00]\n",
            " [ 1.05171756e-01  1.21374046e+01]\n",
            " [-1.52782824e+00 -1.58625954e+01]\n",
            " [ 5.88171756e-01  5.13740458e+00]\n",
            " [ 3.55171756e-01  7.13740458e+00]\n",
            " [ 9.38171756e-01  8.13740458e+00]\n",
            " [ 8.05171756e-01  2.13740458e+00]\n",
            " [ 9.72171756e-01  6.13740458e+00]\n",
            " [-1.27828244e-01 -4.86259542e+00]\n",
            " [ 5.38171756e-01  9.13740458e+00]\n",
            " [ 3.38171756e-01  3.13740458e+00]\n",
            " [-1.47782824e+00 -1.88625954e+01]\n",
            " [-1.62782824e+00 -2.28625954e+01]\n",
            " [ 1.33817176e+00  9.13740458e+00]\n",
            " [-1.66182824e+00 -1.18625954e+01]\n",
            " [ 1.28817176e+00  1.91374046e+01]\n",
            " [ 8.55171756e-01  9.13740458e+00]\n",
            " [-1.61182824e+00 -1.28625954e+01]\n",
            " [ 1.07217176e+00  1.31374046e+01]\n",
            " [-1.74482824e+00 -1.28625954e+01]\n",
            " [ 1.03817176e+00  2.13740458e+00]\n",
            " [-1.77828244e-01  1.21374046e+01]\n",
            " [ 3.38171756e-01 -6.86259542e+00]\n",
            " [-1.39482824e+00 -1.78625954e+01]\n",
            " [ 1.13817176e+00  1.11374046e+01]\n",
            " [-1.49482824e+00 -1.18625954e+01]\n",
            " [ 1.30517176e+00  4.13740458e+00]\n",
            " [ 1.22117176e+00  1.91374046e+01]\n",
            " [-1.66182824e+00 -1.68625954e+01]\n",
            " [ 1.33817176e+00  9.13740458e+00]\n",
            " [-1.76182824e+00 -1.68625954e+01]\n",
            " [ 1.38817176e+00  1.21374046e+01]\n",
            " [ 2.22171756e-01  1.37404580e-01]\n",
            " [-1.82782824e+00 -6.86259542e+00]\n",
            " [ 1.07217176e+00  6.13740458e+00]\n",
            " [ 8.22171756e-01  1.01374046e+01]\n",
            " [-1.26182824e+00 -1.18625954e+01]\n",
            " [ 1.00517176e+00  1.31374046e+01]\n",
            " [-1.74482824e+00 -2.28625954e+01]\n",
            " [ 1.30517176e+00  1.11374046e+01]\n",
            " [-1.67782824e+00 -1.08625954e+01]\n",
            " [ 9.05171756e-01  2.11374046e+01]\n",
            " [ 6.72171756e-01  7.13740458e+00]\n",
            " [ 1.20517176e+00  7.13740458e+00]\n",
            " [-1.42782824e+00 -5.86259542e+00]\n",
            " [ 1.20517176e+00  2.13740458e+00]\n",
            " [ 5.38171756e-01  1.11374046e+01]\n",
            " [-1.52782824e+00 -1.48625954e+01]\n",
            " [ 1.00517176e+00  8.13740458e+00]\n",
            " [ 5.05171756e-01  1.37404580e-01]\n",
            " [-1.51182824e+00 -8.86259542e+00]\n",
            " [ 1.57217176e+00  5.13740458e+00]\n",
            " [-1.47782824e+00 -1.08625954e+01]\n",
            " [ 1.07217176e+00  7.13740458e+00]\n",
            " [ 3.88171756e-01  5.13740458e+00]\n",
            " [ 1.05171756e-01  1.21374046e+01]\n",
            " [ 6.38171756e-01  4.13740458e+00]\n",
            " [ 8.38171756e-01  1.11374046e+01]\n",
            " [ 6.05171756e-01 -8.62595420e-01]\n",
            " [-8.61828244e-01 -5.86259542e+00]\n",
            " [ 5.72171756e-01  2.13740458e+00]\n",
            " [ 1.43817176e+00  1.71374046e+01]\n",
            " [ 4.55171756e-01  5.13740458e+00]\n",
            " [ 1.02217176e+00  9.13740458e+00]\n",
            " [-1.32782824e+00 -2.28625954e+01]\n",
            " [ 5.05171756e-01  1.51374046e+01]\n",
            " [-1.29482824e+00 -1.08625954e+01]\n",
            " [ 8.38171756e-01  1.91374046e+01]\n",
            " [-1.62782824e+00 -2.08625954e+01]\n",
            " [ 1.32217176e+00  7.13740458e+00]\n",
            " [-1.66182824e+00 -7.86259542e+00]\n",
            " [ 8.05171756e-01  1.13740458e+00]\n",
            " [ 1.17217176e+00  1.31374046e+01]\n",
            " [ 2.55171756e-01  4.13740458e+00]\n",
            " [-1.62782824e+00 -1.98625954e+01]\n",
            " [ 1.40517176e+00  1.11374046e+01]\n",
            " [-1.01182824e+00 -8.86259542e+00]\n",
            " [ 8.72171756e-01  1.71374046e+01]\n",
            " [-1.39482824e+00 -2.18625954e+01]\n",
            " [ 1.00517176e+00  1.21374046e+01]\n",
            " [ 5.55171756e-01  1.01374046e+01]\n",
            " [-1.62782824e+00 -2.38625954e+01]\n",
            " [ 1.20517176e+00  1.31374046e+01]\n",
            " [-1.71182824e+00 -1.88625954e+01]\n",
            " [ 1.35517176e+00  1.51374046e+01]\n",
            " [ 1.88171756e-01  1.01374046e+01]\n",
            " [ 1.23817176e+00  4.13740458e+00]\n",
            " [-1.19482824e+00 -1.18625954e+01]\n",
            " [ 1.40517176e+00  1.81374046e+01]\n",
            " [ 9.22171756e-01  8.13740458e+00]\n",
            " [-1.79482824e+00 -1.18625954e+01]\n",
            " [ 1.13817176e+00  1.01374046e+01]\n",
            " [-1.17782824e+00 -2.08625954e+01]\n",
            " [ 1.10517176e+00  1.41374046e+01]\n",
            " [-1.67782824e+00 -1.18625954e+01]\n",
            " [ 9.22171756e-01  1.61374046e+01]\n",
            " [-8.77828244e-01 -1.78625954e+01]\n",
            " [ 5.72171756e-01 -1.86259542e+00]\n",
            " [ 7.55171756e-01  6.13740458e+00]\n",
            " [-1.52782824e+00 -1.48625954e+01]\n",
            " [ 1.10517176e+00  1.71374046e+01]\n",
            " [ 2.72171756e-01  1.01374046e+01]\n",
            " [-1.57782824e+00 -2.58625954e+01]\n",
            " [ 1.00517176e+00  1.11374046e+01]\n",
            " [-1.22782824e+00 -1.58625954e+01]\n",
            " [ 1.15517176e+00  1.91374046e+01]\n",
            " [-1.62782824e+00 -2.58625954e+01]\n",
            " [ 6.72171756e-01  1.21374046e+01]\n",
            " [-6.94828244e-01 -1.48625954e+01]\n",
            " [ 8.38171756e-01  1.81374046e+01]\n",
            " [-1.66182824e+00 -2.48625954e+01]\n",
            " [ 8.88171756e-01  1.11374046e+01]\n",
            " [-1.61182824e+00 -1.98625954e+01]\n",
            " [ 1.43817176e+00  1.51374046e+01]\n",
            " [-1.46182824e+00 -1.78625954e+01]\n",
            " [ 2.38171756e-01  8.13740458e+00]\n",
            " [ 7.38171756e-01  1.01374046e+01]\n",
            " [-1.26182824e+00 -1.08625954e+01]\n",
            " [ 1.03817176e+00  1.11374046e+01]\n",
            " [ 1.32217176e+00  6.13740458e+00]\n",
            " [ 8.38171756e-01  5.13740458e+00]\n",
            " [-1.51182824e+00 -1.18625954e+01]\n",
            " [ 1.13817176e+00  9.13740458e+00]\n",
            " [-1.47782824e+00 -2.18625954e+01]\n",
            " [ 1.60517176e+00  2.51374046e+01]\n",
            " [-1.69482824e+00 -1.78625954e+01]\n",
            " [ 1.53817176e+00  6.13740458e+00]\n",
            " [ 5.05171756e-01  6.13740458e+00]\n",
            " [-1.09482824e+00 -5.86259542e+00]\n",
            " [ 1.10517176e+00  1.01374046e+01]\n",
            " [ 7.21717557e-02  1.37404580e-01]\n",
            " [ 5.05171756e-01 -8.62595420e-01]\n",
            " [ 1.00517176e+00  1.01374046e+01]\n",
            " [ 5.88171756e-01  2.21374046e+01]\n",
            " [-1.69482824e+00 -1.78625954e+01]\n",
            " [ 4.72171756e-01  1.81374046e+01]\n",
            " [-1.29482824e+00 -2.58625954e+01]\n",
            " [ 6.55171756e-01  1.51374046e+01]\n",
            " [-1.49482824e+00 -1.28625954e+01]\n",
            " [ 3.38171756e-01  7.13740458e+00]\n",
            " [ 5.17175573e-03 -4.86259542e+00]\n",
            " [ 1.08817176e+00  5.13740458e+00]\n",
            " [-1.12782824e+00 -7.86259542e+00]\n",
            " [ 1.50517176e+00  1.71374046e+01]\n",
            " [-1.56182824e+00 -1.88625954e+01]\n",
            " [ 1.12217176e+00  2.21374046e+01]\n",
            " [-1.57782824e+00 -2.18625954e+01]\n",
            " [-1.41182824e+00 -1.38625954e+01]\n",
            " [ 1.08817176e+00  6.13740458e+00]\n",
            " [-1.61828244e-01 -2.86259542e+00]\n",
            " [ 6.72171756e-01  1.01374046e+01]\n",
            " [ 8.38171756e-01  1.01374046e+01]\n",
            " [ 1.00517176e+00  2.13740458e+00]\n",
            " [-1.07782824e+00 -2.08625954e+01]\n",
            " [ 5.05171756e-01  1.41374046e+01]\n",
            " [ 6.72171756e-01  3.13740458e+00]\n",
            " [-1.61182824e+00 -1.58625954e+01]\n",
            " [ 1.08817176e+00  6.13740458e+00]\n",
            " [ 7.55171756e-01  1.21374046e+01]\n",
            " [ 2.72171756e-01  1.21374046e+01]\n",
            " [-1.46182824e+00 -1.98625954e+01]\n",
            " [ 9.38171756e-01  7.13740458e+00]\n",
            " [ 5.88171756e-01  1.31374046e+01]\n",
            " [-1.66182824e+00 -2.48625954e+01]\n",
            " [ 9.22171756e-01  1.21374046e+01]\n",
            " [-1.31182824e+00 -1.58625954e+01]\n",
            " [ 1.30517176e+00  1.01374046e+01]\n",
            " [-1.66182824e+00 -1.38625954e+01]\n",
            " [ 1.30517176e+00  5.13740458e+00]\n",
            " [ 6.05171756e-01  1.31374046e+01]\n",
            " [ 4.71171756e-01  6.13740458e+00]\n",
            " [ 7.38171756e-01  1.01374046e+01]\n",
            " [ 5.17175573e-03  1.61374046e+01]\n",
            " [ 8.71171756e-01  6.13740458e+00]\n",
            " [-1.24482824e+00 -1.98625954e+01]\n",
            " [ 1.17217176e+00  7.13740458e+00]\n",
            " [-1.39482824e+00 -1.08625954e+01]\n",
            " [ 8.55171756e-01  1.11374046e+01]\n",
            " [ 6.38171756e-01  2.01374046e+01]\n",
            " [-1.62782824e+00 -1.78625954e+01]\n",
            " [ 1.10517176e+00  7.13740458e+00]\n",
            " [-1.71182824e+00 -2.48625954e+01]\n",
            " [ 8.72171756e-01  6.13740458e+00]\n",
            " [ 3.55171756e-01  1.31374046e+01]\n",
            " [-1.56182824e+00 -2.18625954e+01]\n",
            " [ 1.00517176e+00  1.21374046e+01]\n",
            " [-1.11182824e+00  1.37404580e-01]\n",
            " [ 1.20517176e+00  9.13740458e+00]\n",
            " [-1.62782824e+00 -2.18625954e+01]\n",
            " [ 3.38171756e-01  4.13740458e+00]\n",
            " [-7.78282443e-02 -6.86259542e+00]\n",
            " [ 7.38171756e-01  5.13740458e+00]\n",
            " [-1.09482824e+00 -1.78625954e+01]\n",
            " [ 1.30517176e+00  2.31374046e+01]\n",
            " [-1.49482824e+00 -1.58625954e+01]\n",
            " [ 6.55171756e-01  5.13740458e+00]\n",
            " [-1.62782824e+00 -2.08625954e+01]\n",
            " [ 7.72171756e-01  1.11374046e+01]\n",
            " [-1.74482824e+00 -1.68625954e+01]\n",
            " [ 9.88171756e-01  4.13740458e+00]\n",
            " [ 5.05171756e-01  7.13740458e+00]\n",
            " [ 6.22171756e-01  8.13740458e+00]\n",
            " [ 5.88171756e-01  7.13740458e+00]\n",
            " [ 7.72171756e-01  7.13740458e+00]\n",
            " [ 4.22171756e-01 -8.62595420e-01]\n",
            " [ 1.05517176e+00  8.13740458e+00]\n",
            " [ 5.88171756e-01 -8.62595420e-01]\n",
            " [-1.07782824e+00 -1.68625954e+01]\n",
            " [ 6.88171756e-01  1.51374046e+01]\n",
            " [-1.27782824e+00 -2.08625954e+01]\n",
            " [ 9.55171756e-01  1.91374046e+01]\n",
            " [-1.61182824e+00 -1.68625954e+01]\n",
            " [-1.64482824e+00 -1.68625954e+01]\n",
            " [ 7.88171756e-01  6.13740458e+00]\n",
            " [ 4.55171756e-01  8.13740458e+00]\n",
            " [-1.16182824e+00 -6.86259542e+00]\n",
            " [ 6.55171756e-01  4.13740458e+00]\n",
            " [-1.14482824e+00 -2.38625954e+01]\n",
            " [ 1.43817176e+00  1.51374046e+01]\n",
            " [-5.94828244e-01 -7.86259542e+00]\n",
            " [ 1.08817176e+00  1.41374046e+01]\n",
            " [ 3.38171756e-01  1.11374046e+01]\n",
            " [-1.41182824e+00 -1.38625954e+01]\n",
            " [ 8.72171756e-01  1.11374046e+01]\n",
            " [-1.36182824e+00 -3.86259542e+00]\n",
            " [ 8.55171756e-01  3.13740458e+00]\n",
            " [-1.29482824e+00 -1.68625954e+01]\n",
            " [ 9.55171756e-01  1.21374046e+01]\n",
            " [ 7.21717557e-02  2.13740458e+00]\n",
            " [ 1.00517176e+00  2.13740458e+00]\n",
            " [ 6.55171756e-01  1.71374046e+01]\n",
            " [ 3.22171756e-01  9.13740458e+00]\n",
            " [ 4.22171756e-01  1.37404580e-01]\n",
            " [ 9.55171756e-01  1.21374046e+01]\n",
            " [-1.49482824e+00 -1.48625954e+01]\n",
            " [ 7.88171756e-01  8.13740458e+00]\n",
            " [ 1.27217176e+00  7.13740458e+00]\n",
            " [ 1.03817176e+00  1.31374046e+01]\n",
            " [-1.64482824e+00 -1.28625954e+01]\n",
            " [ 7.55171756e-01  1.21374046e+01]\n",
            " [-1.51182824e+00 -2.78625954e+01]\n",
            " [-1.24482824e+00 -1.08625954e+01]\n",
            " [ 1.25517176e+00  4.13740458e+00]\n",
            " [ 6.22171756e-01  1.01374046e+01]\n",
            " [-1.34482824e+00 -2.48625954e+01]\n",
            " [ 9.22171756e-01  1.91374046e+01]\n",
            " [-1.67782824e+00 -2.48625954e+01]\n",
            " [ 9.72171756e-01  3.13740458e+00]]\n"
          ]
        }
      ]
    },
    {
      "cell_type": "code",
      "source": [
        "tst = np.array([[  0.2968    ,   7.2  ],[ -1.5032    , -17.8 ]])"
      ],
      "metadata": {
        "id": "wn9K5kU_-0eO"
      },
      "execution_count": 35,
      "outputs": []
    },
    {
      "cell_type": "code",
      "source": [
        "np.outer(tst,tst)"
      ],
      "metadata": {
        "colab": {
          "base_uri": "https://localhost:8080/"
        },
        "id": "ebyxtv0F--_s",
        "outputId": "0f23eb7b-1280-4370-f523-5538a9fb0857"
      },
      "execution_count": 36,
      "outputs": [
        {
          "output_type": "execute_result",
          "data": {
            "text/plain": [
              "array([[ 8.80902400e-02,  2.13696000e+00, -4.46149760e-01,\n",
              "        -5.28304000e+00],\n",
              "       [ 2.13696000e+00,  5.18400000e+01, -1.08230400e+01,\n",
              "        -1.28160000e+02],\n",
              "       [-4.46149760e-01, -1.08230400e+01,  2.25961024e+00,\n",
              "         2.67569600e+01],\n",
              "       [-5.28304000e+00, -1.28160000e+02,  2.67569600e+01,\n",
              "         3.16840000e+02]])"
            ]
          },
          "metadata": {},
          "execution_count": 36
        }
      ]
    },
    {
      "cell_type": "markdown",
      "source": [
        "============================ CODE ARCHIVE ==================================="
      ],
      "metadata": {
        "id": "t3pu05gKAS4h"
      }
    },
    {
      "cell_type": "code",
      "source": [],
      "metadata": {
        "id": "EFQzfgee_rIa"
      },
      "execution_count": 36,
      "outputs": []
    },
    {
      "cell_type": "code",
      "source": [
        "G_mtrx"
      ],
      "metadata": {
        "colab": {
          "base_uri": "https://localhost:8080/",
          "height": 143
        },
        "id": "vbF_NFeOoZm9",
        "outputId": "0b75206d-08c2-4635-fd5d-1d113d9f8095"
      },
      "execution_count": 37,
      "outputs": [
        {
          "output_type": "error",
          "ename": "NameError",
          "evalue": "name 'G_mtrx' is not defined",
          "traceback": [
            "\u001b[0;31m---------------------------------------------------------------------------\u001b[0m",
            "\u001b[0;31mNameError\u001b[0m                                 Traceback (most recent call last)",
            "\u001b[0;32m<ipython-input-37-74e19ec6adc9>\u001b[0m in \u001b[0;36m<cell line: 1>\u001b[0;34m()\u001b[0m\n\u001b[0;32m----> 1\u001b[0;31m \u001b[0mG_mtrx\u001b[0m\u001b[0;34m\u001b[0m\u001b[0;34m\u001b[0m\u001b[0m\n\u001b[0m",
            "\u001b[0;31mNameError\u001b[0m: name 'G_mtrx' is not defined"
          ]
        }
      ]
    },
    {
      "cell_type": "code",
      "source": [
        "  n=len(data)\n",
        "  G=G\n",
        "\n",
        "  G_mtrx, s_mtrx, p_mtrx, final_G,data_wg, mean_df= create_s_mtrx(G,n,s_interval=10)\n",
        "  data_wg_cal = prep_data(G, G_mtrx, s_mtrx, p_mtrx, final_G,data_wg, mean_df)\n",
        "  sigma, sigma_det = calc_sigma(data_wg_cal)\n",
        "  w_i_k, loglik, loglik_complete  = Estep(G, data_wg_cal, sigma, p_mtrx)\n",
        "  # report initial setting:\n",
        "  print(f'initial setting: G= {final_G}, \\n prob = {p_mtrx}, \\n mean = \\n{mean_df}, \\n sigma = {sigma}, \\n loglik = {loglik} \\n ')\n",
        "  i_loop = 1\n",
        "\n",
        "  while itmax+1 > i_loop:\n",
        "\n",
        "\n",
        "    p_mtrx, erup_mean, wait_mean, mean_df, s_mtrx = Mstep(G, data_wg_cal, sigma, w_i_k)\n",
        "    #update dataset with output from Mstep\n",
        "    data_wg = data_wg_cal[['eruptions', 'waiting', 'G', 'p']]\n",
        "    #print(data_wg.columns.to_list())\n",
        "    data_wg_cal = prep_data(G, G_mtrx, s_mtrx, p_mtrx, final_G,data_wg, mean_df)\n",
        "    w_i_k, loglik, loglik_complete  = Estep(G, data_wg_cal, sigma,p_mtrx)\n",
        "    print(f'--------------------------------------------------------------')\n",
        "    print(f'iteration = {i_loop}: \\n prob = {p_mtrx}, \\n mean = \\n{mean_df}, \\n sigma = \\n{sigma}, \\n loglik = {loglik} \\n')\n",
        "\n",
        "    i_loop = i_loop + 1"
      ],
      "metadata": {
        "id": "u5Pc_sKlUxY4"
      },
      "execution_count": null,
      "outputs": []
    },
    {
      "cell_type": "code",
      "source": [
        "s_mtrx"
      ],
      "metadata": {
        "id": "S90rxdt0mnZU"
      },
      "execution_count": null,
      "outputs": []
    },
    {
      "cell_type": "code",
      "source": [
        "# https://liangfgithub.github.io/PSL/w7/w7_2_mixture.html\n",
        "# Starting with an initial guess of our parameters, which encompass the means, variances, and mixing weight π of the Gaussians\n",
        "\n",
        "p_mtrx"
      ],
      "metadata": {
        "id": "f3oiRTq8mTHn"
      },
      "execution_count": null,
      "outputs": []
    },
    {
      "cell_type": "code",
      "source": [
        "data_wg"
      ],
      "metadata": {
        "id": "gckohkiUufZx"
      },
      "execution_count": null,
      "outputs": []
    },
    {
      "cell_type": "code",
      "source": [
        "data_mtrx = data[['eruptions','waiting']].to_numpy().reshape(-1,1)"
      ],
      "metadata": {
        "id": "xPd8yIIy5zgr"
      },
      "execution_count": null,
      "outputs": []
    },
    {
      "cell_type": "code",
      "source": [
        "#create a copy of data for QA purpose\n",
        "data_wg_cal = data_wg.copy()"
      ],
      "metadata": {
        "id": "mXSCeg7Y6Gqm"
      },
      "execution_count": null,
      "outputs": []
    },
    {
      "cell_type": "code",
      "source": [
        "#get mean by G\n",
        "mean_df"
      ],
      "metadata": {
        "id": "Y9eix7hi_sOr"
      },
      "execution_count": null,
      "outputs": []
    },
    {
      "cell_type": "code",
      "source": [
        "mean_temp = mean_df.T\n",
        "mean_temp"
      ],
      "metadata": {
        "id": "ZNlPzwc5p4Y7"
      },
      "execution_count": null,
      "outputs": []
    },
    {
      "cell_type": "code",
      "source": [
        "p1 = mean_temp['p'].iloc[0]\n",
        "p2 = mean_temp['p'].iloc[1]\n",
        "try:\n",
        "  p3 = mean_temp['p'].iloc[2]\n",
        "except:\n",
        "  print('no G = 3')"
      ],
      "metadata": {
        "id": "Sd4nHiySSZtE"
      },
      "execution_count": null,
      "outputs": []
    },
    {
      "cell_type": "code",
      "source": [
        "mean_temp['ug'] = [np.array(row) for row in mean_temp[['eruptions','waiting']].to_numpy()]\n",
        "mean_temp"
      ],
      "metadata": {
        "id": "hM6_xj7Mrw2I"
      },
      "execution_count": null,
      "outputs": []
    },
    {
      "cell_type": "code",
      "source": [
        "mean_temp['ug'].to_numpy()"
      ],
      "metadata": {
        "id": "sRKsDPims25q"
      },
      "execution_count": null,
      "outputs": []
    },
    {
      "cell_type": "code",
      "source": [
        "mean_mtrx_by_G = np.vstack(mean_temp['ug'].values)\n",
        "mean_mtrx_by_G"
      ],
      "metadata": {
        "id": "2TuYWVRtsLtK"
      },
      "execution_count": null,
      "outputs": []
    },
    {
      "cell_type": "code",
      "source": [
        "for i in range(0,final_G):\n",
        "  print(mean_mtrx_by_G[i])"
      ],
      "metadata": {
        "id": "FO4SQctzyHJ8"
      },
      "execution_count": null,
      "outputs": []
    },
    {
      "cell_type": "code",
      "source": [
        "mean_mtrx = np.array(mean_df)"
      ],
      "metadata": {
        "id": "yd3-gL_I_K-X"
      },
      "execution_count": null,
      "outputs": []
    },
    {
      "cell_type": "code",
      "source": [
        "\n",
        "data_erp = data_wg_cal['eruptions'].to_numpy().reshape(-1,1) - mean_mtrx[0]#average eruptions time\n",
        "data_erp = pd.DataFrame(data_erp)\n",
        "data_erp.columns= ['erp_diff_'+ col for col in G_mtrx.astype('str').tolist()]"
      ],
      "metadata": {
        "id": "zLX-Wh7MAkqe"
      },
      "execution_count": null,
      "outputs": []
    },
    {
      "cell_type": "code",
      "source": [
        "data_erp"
      ],
      "metadata": {
        "id": "MOXPvpYwpcm2"
      },
      "execution_count": null,
      "outputs": []
    },
    {
      "cell_type": "code",
      "source": [
        "data_wait = data_wg_cal['waiting'].to_numpy().reshape(-1,1) -mean_mtrx[1]#average waiting time\n",
        "data_wait = pd.DataFrame(data_wait)\n",
        "data_wait.columns= ['wait_diff_'+ col for col in G_mtrx.astype('str').tolist()]"
      ],
      "metadata": {
        "id": "qp595dRq_Tls"
      },
      "execution_count": null,
      "outputs": []
    },
    {
      "cell_type": "code",
      "source": [
        "data_e_m = pd.DataFrame(mean_mtrx[0]).transpose()\n",
        "data_e_m.columns= ['erp_'+ col for col in G_mtrx.astype('str').tolist()]"
      ],
      "metadata": {
        "id": "uoTfy9R5ILbE"
      },
      "execution_count": null,
      "outputs": []
    },
    {
      "cell_type": "code",
      "source": [
        "data_w_m = pd.DataFrame(mean_mtrx[1]).transpose()\n",
        "data_w_m.columns= ['wait_'+ col for col in G_mtrx.astype('str').tolist()]"
      ],
      "metadata": {
        "id": "tVU3d7MtIbfv"
      },
      "execution_count": null,
      "outputs": []
    },
    {
      "cell_type": "code",
      "source": [
        "data_p = pd.DataFrame(mean_mtrx[2]).transpose()\n",
        "data_p.columns= ['p_'+ col for col in G_mtrx.astype('str').tolist()]"
      ],
      "metadata": {
        "id": "SZP6oDETBrk7"
      },
      "execution_count": null,
      "outputs": []
    },
    {
      "cell_type": "code",
      "source": [
        "\n",
        "\n",
        "data_wg_cal = data_wg_cal.merge(data_p, how='cross').merge(data_e_m,how='cross').merge(data_w_m,how='cross')\n",
        "data_wg_cal = pd.concat([data_wg_cal,data_erp,data_wait],axis = 1)\n",
        "data_wg_cal.head()"
      ],
      "metadata": {
        "id": "a_JzmLA1Ayd4"
      },
      "execution_count": null,
      "outputs": []
    },
    {
      "cell_type": "code",
      "source": [
        "data_wg_cal"
      ],
      "metadata": {
        "id": "udGOsRnBuHAR"
      },
      "execution_count": null,
      "outputs": []
    },
    {
      "cell_type": "code",
      "source": [
        "  erp_mean=(s_mtrx*mean_mtrx[0]).sum()/n\n",
        "  data_wg_cal['erp_mean'] = erp_mean\n",
        "  data_wg_cal['erp_diff']=data_wg_cal['eruptions']-data_wg_cal['erp_mean']\n",
        "  wait_mean=(s_mtrx*mean_mtrx[1]).sum()/n\n",
        "  data_wg_cal['wait_mean']= wait_mean\n",
        "  data_wg_cal['wait_diff']=data_wg_cal['waiting']-data_wg_cal['wait_mean']\n"
      ],
      "metadata": {
        "id": "_vsgpMU1Xnqm"
      },
      "execution_count": null,
      "outputs": []
    },
    {
      "cell_type": "code",
      "source": [
        "  data_wg_cal['xi']= [np.reshape(np.array(row),(2,1)) for row in data_wg_cal[['eruptions','waiting']].to_numpy()]\n",
        "  data_wg_cal['u']= [np.reshape(np.array(row),(2,1)) for row in data_wg_cal[['erp_mean','wait_mean']].to_numpy()]\n",
        "  data_wg_cal['u_1']= [np.reshape(np.array(row),(2,1)) for row in data_wg_cal[['erp_1','wait_1']].to_numpy()]\n",
        "  data_wg_cal['u_2']= [np.reshape(np.array(row),(2,1)) for row in data_wg_cal[['erp_2','wait_2']].to_numpy()]\n",
        "  if G==3:\n",
        "    data_wg_cal['u_3']= [np.reshape(np.array(row),(2,1)) for row in data_wg_cal[['erp_3','wait_3']].to_numpy()]"
      ],
      "metadata": {
        "id": "-HA86rF4XipW"
      },
      "execution_count": null,
      "outputs": []
    },
    {
      "cell_type": "code",
      "source": [
        "data_wg_cal['xi_minus_u']= data_wg_cal['xi']-data_wg_cal['u']\n",
        "data_wg_cal['xi_minus_u1']= data_wg_cal['xi']-data_wg_cal['u_1']\n",
        "data_wg_cal['xi_minus_u2']= data_wg_cal['xi']-data_wg_cal['u_2']\n",
        "try:\n",
        "  data_wg_cal['xi_minus_u3']= data_wg_cal['xi']-data_wg_cal['u_3']\n",
        "except:\n",
        "  print('no G = 3')"
      ],
      "metadata": {
        "id": "4DjHJLItffKm"
      },
      "execution_count": null,
      "outputs": []
    },
    {
      "cell_type": "code",
      "source": [
        "data_wg_cal['xi_minus_u_T']= ([np.reshape(np.array(row),(1,2)) for row in data_wg_cal['xi']-data_wg_cal['u']])\n",
        "data_wg_cal['xi_minus_u1_T']= ([np.reshape(np.array(row),(1,2)) for row in data_wg_cal['xi']-data_wg_cal['u_1']])\n",
        "data_wg_cal['xi_minus_u2_T']= ([np.reshape(np.array(row),(1,2)) for row in data_wg_cal['xi']-data_wg_cal['u_2']])\n",
        "try:\n",
        "  data_wg_cal['xi_minus_u3_T']= ([np.reshape(np.array(row),(1,2)) for row in data_wg_cal['xi']-data_wg_cal['u_3']])\n",
        "except:\n",
        "  print('no G = 3')"
      ],
      "metadata": {
        "id": "pigttM9SgWu7"
      },
      "execution_count": null,
      "outputs": []
    },
    {
      "cell_type": "code",
      "source": [
        "data_wg_cal.head()"
      ],
      "metadata": {
        "id": "TXJI06mnhvAv"
      },
      "execution_count": null,
      "outputs": []
    },
    {
      "cell_type": "code",
      "source": [
        "\n",
        " #CA4,instruction p2, after 'Testing'\n",
        "sigma = (data_wg_cal['xi_minus_u']*data_wg_cal['xi_minus_u_T']).sum(axis = 0)/n\n",
        "sigma"
      ],
      "metadata": {
        "id": "pGUu0B5Xhi3w"
      },
      "execution_count": null,
      "outputs": []
    },
    {
      "cell_type": "code",
      "source": [
        "# find determinant of sigma |sigma|\n",
        "sigma_det = np.linalg.det(sigma)\n",
        "sigma_det"
      ],
      "metadata": {
        "id": "-sV-Fh2B0llB"
      },
      "execution_count": null,
      "outputs": []
    },
    {
      "cell_type": "code",
      "source": [
        "data_wg_cal['sigma_inv'] =  [(sigma**-1)]*n"
      ],
      "metadata": {
        "id": "Zm2g_VeGXxQ7"
      },
      "execution_count": null,
      "outputs": []
    },
    {
      "cell_type": "code",
      "source": [
        "#create log term\n",
        "# double check on the TA session @10/25/2024 with professor, and she allowed hard code G = 2 or 3\n",
        "# the second half of the log term is the probability density function (pdf) for 2D normal distribution\n",
        "# so this is basically calcating the sum of (probability * pdf), a.k.a: calculate the corresponding\n",
        "# distribution of Zi\n",
        "# the key term for prob density func pdf\n",
        "\n",
        "pdf_1  = -0.5* np.array(data_wg_cal['xi_minus_u1_T'].to_list()) @ np.array(data_wg_cal['sigma_inv'].to_list()) @ np.array(data_wg_cal['xi_minus_u1'].to_list())\n",
        "pdf_2  = -0.5* np.array(data_wg_cal['xi_minus_u2_T'].to_list()) @ np.array(data_wg_cal['sigma_inv'].to_list()) @ np.array(data_wg_cal['xi_minus_u2'].to_list())\n",
        "try:\n",
        "  pdf_3 = -0.5 * np.array(data_wg_cal['xi_minus_u3_T'].to_list()) @ np.array(data_wg_cal['sigma_inv'].to_list()) @ np.array(data_wg_cal['xi_minus_u3'].to_list())\n",
        "except:\n",
        "  print('no G==3')"
      ],
      "metadata": {
        "id": "964BZkuWYuNe"
      },
      "execution_count": null,
      "outputs": []
    },
    {
      "cell_type": "code",
      "source": [
        "pdf_1.shape"
      ],
      "metadata": {
        "id": "b3TUJBcwftFY"
      },
      "execution_count": null,
      "outputs": []
    },
    {
      "cell_type": "code",
      "source": [
        "# this is the real pdf\n",
        "pdf_1_processed = p1*np.exp(pdf_1)/(((2*np.pi)**2)*sigma_det)**0.5\n",
        "pdf_2_processed = p2*np.exp(pdf_2)/(((2*np.pi)**2)*sigma_det)**0.5\n",
        "try:\n",
        "  pdf_3_processed = p3*np.exp(pdf_3)/(((2*np.pi)**2)*sigma_det)**0.5\n",
        "except:\n",
        "  print('no G==3')"
      ],
      "metadata": {
        "id": "X6GGhd9FN4Pt"
      },
      "execution_count": null,
      "outputs": []
    },
    {
      "cell_type": "code",
      "source": [
        "log_pdf_1_processed = np.log(pdf_1_processed)\n",
        "log_pdf_2_processed = np.log(pdf_2_processed)\n",
        "try:\n",
        "  log_pdf_3_processed = np.log(pdf_3_processed)\n",
        "except:\n",
        "  print('no G==3')"
      ],
      "metadata": {
        "id": "WvP0lIRGojqP"
      },
      "execution_count": null,
      "outputs": []
    },
    {
      "cell_type": "code",
      "source": [
        "pdf_1_processed.shape\n",
        "# n * little sigma"
      ],
      "metadata": {
        "id": "C-0GGXvPTXpF"
      },
      "execution_count": null,
      "outputs": []
    },
    {
      "cell_type": "code",
      "source": [
        "pdf_1_processed[0]"
      ],
      "metadata": {
        "id": "XBiJqVqaTjT-"
      },
      "execution_count": null,
      "outputs": []
    },
    {
      "cell_type": "markdown",
      "source": [
        "E-Step\n",
        "https://campuswire.com/c/GB46E5679/feed/589"
      ],
      "metadata": {
        "id": "nT0mPKEmzgXA"
      }
    },
    {
      "cell_type": "code",
      "source": [
        "# Derivation 1:\n",
        "# compute the Marginal likelihood function\n",
        "# A marginal likelihood function (also known as the evidence in Bayesian statistics) is a probability function that represents the likelihood of\n",
        "# observing data under a specific model\n",
        "\n",
        "if G==2:\n",
        "  loglik = np.log(pdf_1_processed+pdf_2_processed).sum(axis=0)\n",
        "else:\n",
        "  loglik = np.log(pdf_1_processed+pdf_2_processed+pdf_3_processed).sum(axis=0)\n",
        "\n",
        "loglik = loglik.item() # change an array of shape (1,1) to 1 number,array([[-1552]]) -> 1522\n",
        "loglik\n"
      ],
      "metadata": {
        "id": "o0-RWvFiohkI"
      },
      "execution_count": null,
      "outputs": []
    },
    {
      "cell_type": "code",
      "source": [
        "# Derivation 2:\n",
        "# compute the complete likelihood function\n",
        "# The complete likelihood (or complete-data likelihood) refers to the likelihood function that considers\n",
        "# both observed and unobserved (latent) data in a probabilistic model.\n",
        "\n",
        "try:\n",
        "  loglik_complete = log_pdf_1_processed + log_pdf_2_processed + log_pdf_1_processed\n",
        "except:\n",
        "  loglik_complete = log_pdf_1_processed + log_pdf_2_processed\n",
        "\n",
        "loglik_complete = loglik_complete.sum()\n",
        "loglik_complete"
      ],
      "metadata": {
        "id": "YSTvdkAJqfKa"
      },
      "execution_count": null,
      "outputs": []
    },
    {
      "cell_type": "code",
      "source": [
        "# Derivation 3:\n",
        "# create a matrix of weight, representing the weight of observation x1 assigned to Group G\n",
        "# Darin's answer on this post gives great explanation: https://campuswire.com/c/GB46E5679/feed/648\n",
        "\n",
        "try:\n",
        "  w_i_1 = pdf_1_processed / (pdf_1_processed + pdf_2_processed + pdf_3_processed)\n",
        "  w_i_2 = pdf_2_processed / (pdf_1_processed + pdf_2_processed + pdf_3_processed)\n",
        "  w_i_3 = pdf_3_processed / (pdf_1_processed + pdf_2_processed + pdf_3_processed)\n",
        "\n",
        "except:\n",
        "  w_i_1 = pdf_1_processed / (pdf_1_processed + pdf_2_processed)\n",
        "  w_i_2 = pdf_2_processed / (pdf_1_processed + pdf_2_processed)"
      ],
      "metadata": {
        "id": "8GhXQN5Yi_mQ"
      },
      "execution_count": null,
      "outputs": []
    },
    {
      "cell_type": "code",
      "source": [
        "w_i_1 = np.squeeze(w_i_1).reshape(n,1)\n",
        "w_i_2 = np.squeeze(w_i_2).reshape(n,1)\n",
        "\n",
        "try:\n",
        "  w_i_3 = np.squeeze(w_i_3).reshape(n,1)\n",
        "except:\n",
        "  print('no G==3')"
      ],
      "metadata": {
        "id": "T6CoS_sXpQpy"
      },
      "execution_count": null,
      "outputs": []
    },
    {
      "cell_type": "code",
      "source": [
        "# output for Estep\n",
        "try:\n",
        "  w_i_k = np.hstack((w_i_1,w_i_2,w_i_3))\n",
        "except:\n",
        "  w_i_k = np.hstack((w_i_1,w_i_2))"
      ],
      "metadata": {
        "id": "6eJmvTArpYog"
      },
      "execution_count": null,
      "outputs": []
    },
    {
      "cell_type": "code",
      "source": [
        "(np.array(data_wg_cal['eruptions'].to_list()).reshape((n,1))*w_i_k).sum(axis = 0)/w_i_k.sum(axis = 0)"
      ],
      "metadata": {
        "id": "0rmRVp3san2s"
      },
      "execution_count": null,
      "outputs": []
    },
    {
      "cell_type": "code",
      "source": [
        "w_i_k.sum() # return n * 100% = 272"
      ],
      "metadata": {
        "id": "SKyi6q5spAq5"
      },
      "execution_count": null,
      "outputs": []
    },
    {
      "cell_type": "code",
      "source": [
        "# Derivation 3:\n",
        "# create a matrix of weight, representing the weight of observation x1 assigned to Group G\n",
        "# Darin's answer on this post gives great explanation: https://campuswire.com/c/GB46E5679/feed/648\n",
        "# Mstep - maximize the probability of P given the observation\n",
        "w_i_k.sum(axis = 0)/n\n",
        "# iter 0-  array([0.03676471, 0.07352941, 0.88970588])"
      ],
      "metadata": {
        "id": "rJbOXjteLiIq"
      },
      "execution_count": null,
      "outputs": []
    },
    {
      "cell_type": "code",
      "source": [
        "w_i_k.sum(axis = 0)"
      ],
      "metadata": {
        "id": "FKlCvRq6Xu72"
      },
      "execution_count": null,
      "outputs": []
    },
    {
      "cell_type": "code",
      "source": [
        "p_mtrx_new = w_i_k.sum(axis = 0)/n"
      ],
      "metadata": {
        "id": "_m4gGOtZwTXE"
      },
      "execution_count": null,
      "outputs": []
    },
    {
      "cell_type": "code",
      "source": [
        "p1_new = p_mtrx_new[0]\n",
        "p2_new = p_mtrx_new[1]\n",
        "p3_new = p_mtrx_new[2]"
      ],
      "metadata": {
        "id": "zLcNu6VAwX-I"
      },
      "execution_count": null,
      "outputs": []
    },
    {
      "cell_type": "code",
      "source": [
        "#initial mean\n",
        "mean_mtrx_by_G"
      ],
      "metadata": {
        "id": "fCKtwmgswfPs"
      },
      "execution_count": null,
      "outputs": []
    },
    {
      "cell_type": "code",
      "source": [
        "erup_mean_tmp = (np.array(data_wg_cal['eruptions'].to_list()).reshape((n,1))*w_i_k).sum(axis = 0)\n",
        "wait_mean_tmp = (np.array(data_wg_cal['waiting'].to_list()).reshape((n,1))*w_i_k).sum(axis = 0)"
      ],
      "metadata": {
        "id": "aUuwvq4yyO7S"
      },
      "execution_count": null,
      "outputs": []
    },
    {
      "cell_type": "code",
      "source": [
        "erup_mean_tmp"
      ],
      "metadata": {
        "id": "g96MQHk30u-w"
      },
      "execution_count": null,
      "outputs": []
    },
    {
      "cell_type": "markdown",
      "source": [
        "Estep function: This function should return an n-by-G matrix, where the (i, j)th entry represents the\n",
        "conditional probability P(Zi = k | xi). Here i ranges from 1 to n and k ranges from 1 to G.\n"
      ],
      "metadata": {
        "id": "MqVQWblhHOXw"
      }
    },
    {
      "cell_type": "markdown",
      "source": [
        "Mstep function: This function should return the updated parameters for the Gaussian mixture model.\n"
      ],
      "metadata": {
        "id": "__aJklbXHXcc"
      }
    },
    {
      "cell_type": "markdown",
      "source": [
        "loglik function: This function computes the log-likelihood of the data given the parameters."
      ],
      "metadata": {
        "id": "huLyEzF8Hafd"
      }
    },
    {
      "cell_type": "markdown",
      "source": [
        "myEM function (main function): Inside this function, you can call the Estep and Mstep functions. The\n",
        "function should take the following inputs and return the estimated parameters and log-likelihood (via\n",
        "the loglik function)"
      ],
      "metadata": {
        "id": "bDzHOiJ0HdRt"
      }
    },
    {
      "cell_type": "markdown",
      "source": [
        "# **Part II: HMM**"
      ],
      "metadata": {
        "id": "wtx21gATHhgM"
      }
    },
    {
      "cell_type": "markdown",
      "source": [
        "Baum-Welch Algorihtm"
      ],
      "metadata": {
        "id": "JomOQFXDIXFB"
      }
    },
    {
      "cell_type": "markdown",
      "source": [
        "Viterbi Algorihtm"
      ],
      "metadata": {
        "id": "K0cUU7pZIRmZ"
      }
    },
    {
      "cell_type": "markdown",
      "source": [
        "# **================ CODE ARCHIVE ================================**"
      ],
      "metadata": {
        "id": "U6wwMWaeZvMQ"
      }
    },
    {
      "cell_type": "code",
      "source": [
        "# TEST PANDA WITH MATRIX\n",
        "matrix_1 = pd.DataFrame([[1, 2], [3, 4]])"
      ],
      "metadata": {
        "id": "ysdteAjxZzI1"
      },
      "execution_count": null,
      "outputs": []
    },
    {
      "cell_type": "code",
      "source": [
        "matrix_1"
      ],
      "metadata": {
        "id": "po0kZ_wcaS23"
      },
      "execution_count": null,
      "outputs": []
    },
    {
      "cell_type": "code",
      "source": [
        "# TEST PANDA WITH MATRIX\n",
        "matrix_2 = pd.DataFrame([[[1,2],[3, 4]], [[5, 6],[7,8]]])"
      ],
      "metadata": {
        "id": "I1M202JIaPi4"
      },
      "execution_count": null,
      "outputs": []
    },
    {
      "cell_type": "code",
      "source": [
        "matrix_2"
      ],
      "metadata": {
        "id": "wLrL78j2Z5o8"
      },
      "execution_count": null,
      "outputs": []
    },
    {
      "cell_type": "code",
      "source": [
        "matrix_3 = pd.DataFrame([[np.zeros((2,3))], [np.zeros((3,2))]])\n",
        "matrix_3"
      ],
      "metadata": {
        "id": "9GAGQ5cuazZG"
      },
      "execution_count": null,
      "outputs": []
    },
    {
      "cell_type": "code",
      "source": [
        "data_wg_cal.head()"
      ],
      "metadata": {
        "id": "X0tdfKzxbVir"
      },
      "execution_count": null,
      "outputs": []
    },
    {
      "cell_type": "code",
      "source": [
        "data_wg_cal['x_i']= [np.array(row) for row in data_wg_cal[['eruptions','waiting']].to_numpy()]"
      ],
      "metadata": {
        "id": "uduQUWC7cG2Q"
      },
      "execution_count": null,
      "outputs": []
    },
    {
      "cell_type": "code",
      "source": [
        "data_wg_cal['u_g']= [np.array(row) for row in data_wg_cal[['erp_mean','wait_mean']].to_numpy()]"
      ],
      "metadata": {
        "id": "OzLycsJ8dQ_Y"
      },
      "execution_count": null,
      "outputs": []
    },
    {
      "cell_type": "code",
      "source": [
        "data_wg_cal"
      ],
      "metadata": {
        "id": "P6P5JRhBcYal"
      },
      "execution_count": null,
      "outputs": []
    },
    {
      "cell_type": "code",
      "source": [
        "data_wg_cal['x_i'] - data_wg_cal['u_g']"
      ],
      "metadata": {
        "id": "Gqf-Zikwdg3a"
      },
      "execution_count": null,
      "outputs": []
    },
    {
      "cell_type": "code",
      "source": [
        "\n",
        "#silly way to calculate sigma - result match\n",
        "# [a,b] * [a,b].T is bascially a^2 +ab+ab+ b^2\n",
        "#data_wg_cal[['eruptions_2',\t'waiting_2']] = data_wg_cal[[\t'eruptions',\t'waiting']]**2\n",
        "#data_wg_cal[['erp_mean_2',\t'wait_mean_2']] = data_wg_cal[[\t'erp_mean',\t'wait_mean']]**2\n",
        "#data_wg_cal['eruptions_erp_mean'] = data_wg_cal['eruptions']*data_wg_cal['erp_mean']\n",
        "#data_wg_cal['waiting_wait_mean'] = data_wg_cal['waiting']*data_wg_cal['wait_mean']\n",
        "data_wg_cal[['erp_diff_2',\t'wait_diff_2']]  = data_wg_cal[[\t'erp_diff',\t'wait_diff']]**2\n",
        "data_wg_cal['erp_wait_diff']  = data_wg_cal['erp_diff']*data_wg_cal['wait_diff']\n",
        "data_wg_cal['erp_wait_diff_again']  = data_wg_cal['erp_diff']*data_wg_cal['wait_diff']\n",
        "\n",
        "#CA4,instruction p2, after 'Testing'\n",
        "sigma = np.array(data_wg_cal[['erp_diff_2','erp_wait_diff','erp_wait_diff_again','wait_diff_2']].mean()).reshape(2,2)\n",
        "sigma"
      ],
      "metadata": {
        "id": "a5MyoGpokT7k"
      },
      "execution_count": null,
      "outputs": []
    },
    {
      "cell_type": "code",
      "source": [
        "#manually check the determinant function\n",
        "#det(A)=ad−bc\n",
        "sigma_det = sigma[0,0]*sigma[1,1]-sigma[0,1]*sigma[1,0]\n",
        "sigma_det"
      ],
      "metadata": {
        "id": "c23OfymPl-UL"
      },
      "execution_count": null,
      "outputs": []
    }
  ]
}