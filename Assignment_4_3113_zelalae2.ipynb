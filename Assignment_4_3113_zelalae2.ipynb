{
  "nbformat": 4,
  "nbformat_minor": 0,
  "metadata": {
    "colab": {
      "provenance": [],
      "authorship_tag": "ABX9TyOQRVf+cYQPju2A+Aet2PHQ",
      "include_colab_link": true
    },
    "kernelspec": {
      "name": "python3",
      "display_name": "Python 3"
    },
    "language_info": {
      "name": "python"
    }
  },
  "cells": [
    {
      "cell_type": "markdown",
      "metadata": {
        "id": "view-in-github",
        "colab_type": "text"
      },
      "source": [
        "<a href=\"https://colab.research.google.com/github/zelal-Eizaldeen/project2_Walmart_Price_Prediction/blob/main/Assignment_4_3113_zelalae2.ipynb\" target=\"_parent\"><img src=\"https://colab.research.google.com/assets/colab-badge.svg\" alt=\"Open In Colab\"/></a>"
      ]
    },
    {
      "cell_type": "markdown",
      "source": [
        "# **Team Members**\n",
        "\n",
        "Zilal Eiz Aldin (Online MCS) Zelalae2@illinois.edu\n",
        "\n",
        "Mesay Taye (Online MCS) mesayst2@illinois.edu\n",
        "\n",
        "Jianci Zhai (Online MCS) jianciz2@illinois.edu"
      ],
      "metadata": {
        "id": "zs6Li3LrGRRx"
      }
    },
    {
      "cell_type": "markdown",
      "source": [
        "# **Contribution of each member**\n",
        "\n",
        "XXX By Mesay\n",
        "\n",
        "XXX By Zilal\n",
        "\n",
        "XXX By Jianci"
      ],
      "metadata": {
        "id": "TiFaMP4iGV8v"
      }
    },
    {
      "cell_type": "markdown",
      "source": [
        "# **Reference**\n",
        "https://campuswire.com/c/GB46E5679/feed/587\n",
        "\n",
        "https://liangfgithub.github.io/Coding/F24_Coding4.pdf"
      ],
      "metadata": {
        "id": "a1xnjLg3GnNE"
      }
    },
    {
      "cell_type": "markdown",
      "source": [
        "# **Part I: Gaussian Mixtures**"
      ],
      "metadata": {
        "id": "MfwWTYo8HMcB"
      }
    },
    {
      "cell_type": "markdown",
      "source": [
        "Estep function: This function should return an n-by-G matrix, where the (i, j)th entry represents the\n",
        "conditional probability P(Zi = k | xi). Here i ranges from 1 to n and k ranges from 1 to G.\n"
      ],
      "metadata": {
        "id": "MqVQWblhHOXw"
      }
    },
    {
      "cell_type": "markdown",
      "source": [
        "Mstep function: This function should return the updated parameters for the Gaussian mixture model.\n"
      ],
      "metadata": {
        "id": "__aJklbXHXcc"
      }
    },
    {
      "cell_type": "markdown",
      "source": [
        "loglik function: This function computes the log-likelihood of the data given the parameters."
      ],
      "metadata": {
        "id": "huLyEzF8Hafd"
      }
    },
    {
      "cell_type": "markdown",
      "source": [
        "myEM function (main function): Inside this function, you can call the Estep and Mstep functions. The\n",
        "function should take the following inputs and return the estimated parameters and log-likelihood (via\n",
        "the loglik function)"
      ],
      "metadata": {
        "id": "bDzHOiJ0HdRt"
      }
    },
    {
      "cell_type": "markdown",
      "source": [
        "# **Part II: HMM**"
      ],
      "metadata": {
        "id": "wtx21gATHhgM"
      }
    },
    {
      "cell_type": "markdown",
      "source": [
        "Baum-Welch Algorihtm"
      ],
      "metadata": {
        "id": "JomOQFXDIXFB"
      }
    },
    {
      "cell_type": "markdown",
      "source": [
        "Viterbi Algorihtm"
      ],
      "metadata": {
        "id": "K0cUU7pZIRmZ"
      }
    }
  ]
}